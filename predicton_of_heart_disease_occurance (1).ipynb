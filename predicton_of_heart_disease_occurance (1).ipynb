{
 "cells": [
  {
   "cell_type": "markdown",
   "metadata": {
    "colab_type": "text",
    "id": "-Vfrmf9QYQ2k"
   },
   "source": [
    "**CSE-221710313020-K.NEHA**"
   ]
  },
  {
   "cell_type": "markdown",
   "metadata": {
    "colab_type": "text",
    "id": "gIdksYXzsNKo"
   },
   "source": [
    "# **Heart** **Disease** **Prediction**"
   ]
  },
  {
   "cell_type": "markdown",
   "metadata": {
    "colab_type": "text",
    "id": "nD-c_CCdsRiv"
   },
   "source": [
    "# **Aim**"
   ]
  },
  {
   "cell_type": "markdown",
   "metadata": {
    "colab_type": "text",
    "id": "BOUFS96-sZEY"
   },
   "source": [
    "-> In this data science project, I have collected the dataset from Kaggle (https://www.kaggle.com/johnsmith88/heart-disease-dataset) and I will be using Machine Learning to make predictions on whether a person is suffering from Heart Disease or not.\n",
    "\n",
    "dataset: https://github.com/kannekanti-neha/DS/blob/master/heart.csv"
   ]
  },
  {
   "cell_type": "markdown",
   "metadata": {
    "colab_type": "text",
    "id": "cap5Tsy4sfAT"
   },
   "source": [
    "**The** **dataset** **consists** **of** **303** **individuals** **data**. **There** **are** **14** **columns** **in** **the** **dataset**, **which** **are** **described** **below**:"
   ]
  },
  {
   "cell_type": "markdown",
   "metadata": {
    "colab_type": "text",
    "id": "rV63cfvas_1u"
   },
   "source": [
    "1. Age: displays the age of the individual.\n",
    "2. Sex: displays the gender of the individual using the following format :\n",
    "\n",
    "    1 = male\n",
    "\n",
    "    0 = female\n",
    "\n",
    "3. Chest-pain type: displays the type of chest-pain experienced by the individual using the following format :\n",
    "\n",
    "    1 = typical angina\n",
    "\n",
    "    2 = atypical angina\n",
    "\n",
    "    3 = non — anginal pain\n",
    "\n",
    "    4 = asymptotic\n",
    "\n",
    "4. Resting Blood Pressure: displays the resting blood pressure value of an individual in mmHg (unit)\n",
    "\n",
    "5. Serum Cholestrol: displays the serum cholesterol in mg/dl (unit)\n",
    "\n",
    "6. Fasting Blood Sugar: compares the fasting blood sugar value of an individual with 120mg/dl.\n",
    "\n",
    "    If fasting blood sugar > 120mg/dl then : 1 (true)\n",
    "\n",
    "     else : 0 (false)\n",
    "\n",
    "7. Resting ECG : displays resting electrocardiographic results\n",
    "\n",
    "     0 = normal\n",
    "\n",
    "     1 = having ST-T wave abnormality\n",
    "\n",
    "      2 = left ventricular hyperthrophy\n",
    "\n",
    "8. Max heart rate achieved : displays the max heart rate achieved by an individual.\n",
    "\n",
    "9. Exercise induced angina :\n",
    "\n",
    "    1 = yes\n",
    "\n",
    "    0 = no\n",
    "\n",
    "10. ST depression induced by exercise relative to rest: displays the value which is an integer or float.\n",
    "\n",
    "11. Peak exercise ST segment :\n",
    "\n",
    "    1 = upsloping\n",
    "\n",
    "    2 = flat\n",
    "\n",
    "    3 = downsloping\n",
    "\n",
    "12. Number of major vessels (0–3) colored by flourosopy : displays the value as integer or float.\n",
    "\n",
    "13. Thal : displays the thalassemia :\n",
    "\n",
    "    0 = normal\n",
    "\n",
    "    1 = fixed defect\n",
    "\n",
    "    2 = reversible defect\n",
    "\n",
    "14. Diagnosis of heart disease : Displays whether the individual is suffering from heart disease or not :\n",
    "\n",
    "    0 = absence\n",
    "\n",
    "    1, 2, 3, 4 = present."
   ]
  },
  {
   "cell_type": "markdown",
   "metadata": {
    "colab_type": "text",
    "id": "sJHciU1Kt-pO"
   },
   "source": [
    "# **Import** **libraries**"
   ]
  },
  {
   "cell_type": "markdown",
   "metadata": {
    "colab_type": "text",
    "id": "kywKNMNHuHa5"
   },
   "source": [
    "->Let's first import all the necessary libraries. I'll use numpy and pandas to start with. For visualization, I will use pyplot subpackage of matplotlib, use rcParams to add styling to the plots and rainbow for colors. For implementing Machine Learning models and processing of data, I will use the sklearn library."
   ]
  },
  {
   "cell_type": "code",
   "execution_count": null,
   "metadata": {
    "colab": {},
    "colab_type": "code",
    "id": "aQ7w31MjuKs-"
   },
   "outputs": [],
   "source": [
    "import numpy as np\n",
    "import pandas as pd\n",
    "import matplotlib.pyplot as plt\n",
    "import seaborn as sns\n",
    "from matplotlib import rcParams\n",
    "from matplotlib.cm import rainbow\n",
    "%matplotlib inline"
   ]
  },
  {
   "cell_type": "markdown",
   "metadata": {
    "colab_type": "text",
    "id": "1ixzVLW8mODU"
   },
   "source": [
    "->For processing the data, I'll import a few libraries. To split the available dataset for testing and training, I'll use the train_test_split method. To scale the features, I am using StandardScaler."
   ]
  },
  {
   "cell_type": "code",
   "execution_count": null,
   "metadata": {
    "colab": {},
    "colab_type": "code",
    "id": "xpX1xCnGmPhw"
   },
   "outputs": [],
   "source": [
    "from sklearn.model_selection import train_test_split\n",
    "from sklearn.preprocessing import StandardScaler"
   ]
  },
  {
   "cell_type": "markdown",
   "metadata": {
    "colab_type": "text",
    "id": "VeCs6NOkudE0"
   },
   "source": [
    "# **Import** **dataset**"
   ]
  },
  {
   "cell_type": "code",
   "execution_count": null,
   "metadata": {
    "colab": {},
    "colab_type": "code",
    "id": "SjYBsLxGujA0"
   },
   "outputs": [],
   "source": [
    " heart = pd.read_csv('heart.csv')"
   ]
  },
  {
   "cell_type": "markdown",
   "metadata": {
    "colab_type": "text",
    "id": "MQfxhFYmunKC"
   },
   "source": [
    "-> The dataset is now loaded into the variable dataset. I'll just take a glimpse of the data using the desribe() and info() methods before I actually start processing and visualizing it."
   ]
  },
  {
   "cell_type": "code",
   "execution_count": null,
   "metadata": {
    "colab": {
     "base_uri": "https://localhost:8080/",
     "height": 374
    },
    "colab_type": "code",
    "id": "t9nytSvLuoZG",
    "outputId": "532e190c-cbd5-4f1a-bcc0-08e56025bc69"
   },
   "outputs": [
    {
     "name": "stdout",
     "output_type": "stream",
     "text": [
      "<class 'pandas.core.frame.DataFrame'>\n",
      "RangeIndex: 1025 entries, 0 to 1024\n",
      "Data columns (total 14 columns):\n",
      " #   Column    Non-Null Count  Dtype  \n",
      "---  ------    --------------  -----  \n",
      " 0   age       1025 non-null   int64  \n",
      " 1   sex       1025 non-null   int64  \n",
      " 2   cp        1025 non-null   int64  \n",
      " 3   trestbps  1025 non-null   int64  \n",
      " 4   chol      1025 non-null   int64  \n",
      " 5   fbs       1025 non-null   int64  \n",
      " 6   restecg   1025 non-null   int64  \n",
      " 7   thalach   1025 non-null   int64  \n",
      " 8   exang     1025 non-null   int64  \n",
      " 9   oldpeak   1025 non-null   float64\n",
      " 10  slope     1025 non-null   int64  \n",
      " 11  ca        1025 non-null   int64  \n",
      " 12  thal      1025 non-null   int64  \n",
      " 13  target    1025 non-null   int64  \n",
      "dtypes: float64(1), int64(13)\n",
      "memory usage: 112.2 KB\n"
     ]
    }
   ],
   "source": [
    "heart.info()"
   ]
  },
  {
   "cell_type": "markdown",
   "metadata": {
    "colab_type": "text",
    "id": "6zIwQIRguzGi"
   },
   "source": [
    "-> Looks like the dataset has a total of 303 rows and there are no missing values. There are a total of 13 features along with one target value "
   ]
  },
  {
   "cell_type": "code",
   "execution_count": null,
   "metadata": {
    "colab": {
     "base_uri": "https://localhost:8080/",
     "height": 317
    },
    "colab_type": "code",
    "id": "E63fSzkau0Mv",
    "outputId": "bb040d95-dd3d-4b32-9e92-20516686649c"
   },
   "outputs": [
    {
     "data": {
      "text/html": [
       "<div>\n",
       "<style scoped>\n",
       "    .dataframe tbody tr th:only-of-type {\n",
       "        vertical-align: middle;\n",
       "    }\n",
       "\n",
       "    .dataframe tbody tr th {\n",
       "        vertical-align: top;\n",
       "    }\n",
       "\n",
       "    .dataframe thead th {\n",
       "        text-align: right;\n",
       "    }\n",
       "</style>\n",
       "<table border=\"1\" class=\"dataframe\">\n",
       "  <thead>\n",
       "    <tr style=\"text-align: right;\">\n",
       "      <th></th>\n",
       "      <th>age</th>\n",
       "      <th>sex</th>\n",
       "      <th>cp</th>\n",
       "      <th>trestbps</th>\n",
       "      <th>chol</th>\n",
       "      <th>fbs</th>\n",
       "      <th>restecg</th>\n",
       "      <th>thalach</th>\n",
       "      <th>exang</th>\n",
       "      <th>oldpeak</th>\n",
       "      <th>slope</th>\n",
       "      <th>ca</th>\n",
       "      <th>thal</th>\n",
       "      <th>target</th>\n",
       "    </tr>\n",
       "  </thead>\n",
       "  <tbody>\n",
       "    <tr>\n",
       "      <th>count</th>\n",
       "      <td>1025.000000</td>\n",
       "      <td>1025.000000</td>\n",
       "      <td>1025.000000</td>\n",
       "      <td>1025.000000</td>\n",
       "      <td>1025.00000</td>\n",
       "      <td>1025.000000</td>\n",
       "      <td>1025.000000</td>\n",
       "      <td>1025.000000</td>\n",
       "      <td>1025.000000</td>\n",
       "      <td>1025.000000</td>\n",
       "      <td>1025.000000</td>\n",
       "      <td>1025.000000</td>\n",
       "      <td>1025.000000</td>\n",
       "      <td>1025.000000</td>\n",
       "    </tr>\n",
       "    <tr>\n",
       "      <th>mean</th>\n",
       "      <td>54.434146</td>\n",
       "      <td>0.695610</td>\n",
       "      <td>0.942439</td>\n",
       "      <td>131.611707</td>\n",
       "      <td>246.00000</td>\n",
       "      <td>0.149268</td>\n",
       "      <td>0.529756</td>\n",
       "      <td>149.114146</td>\n",
       "      <td>0.336585</td>\n",
       "      <td>1.071512</td>\n",
       "      <td>1.385366</td>\n",
       "      <td>0.754146</td>\n",
       "      <td>2.323902</td>\n",
       "      <td>0.513171</td>\n",
       "    </tr>\n",
       "    <tr>\n",
       "      <th>std</th>\n",
       "      <td>9.072290</td>\n",
       "      <td>0.460373</td>\n",
       "      <td>1.029641</td>\n",
       "      <td>17.516718</td>\n",
       "      <td>51.59251</td>\n",
       "      <td>0.356527</td>\n",
       "      <td>0.527878</td>\n",
       "      <td>23.005724</td>\n",
       "      <td>0.472772</td>\n",
       "      <td>1.175053</td>\n",
       "      <td>0.617755</td>\n",
       "      <td>1.030798</td>\n",
       "      <td>0.620660</td>\n",
       "      <td>0.500070</td>\n",
       "    </tr>\n",
       "    <tr>\n",
       "      <th>min</th>\n",
       "      <td>29.000000</td>\n",
       "      <td>0.000000</td>\n",
       "      <td>0.000000</td>\n",
       "      <td>94.000000</td>\n",
       "      <td>126.00000</td>\n",
       "      <td>0.000000</td>\n",
       "      <td>0.000000</td>\n",
       "      <td>71.000000</td>\n",
       "      <td>0.000000</td>\n",
       "      <td>0.000000</td>\n",
       "      <td>0.000000</td>\n",
       "      <td>0.000000</td>\n",
       "      <td>0.000000</td>\n",
       "      <td>0.000000</td>\n",
       "    </tr>\n",
       "    <tr>\n",
       "      <th>25%</th>\n",
       "      <td>48.000000</td>\n",
       "      <td>0.000000</td>\n",
       "      <td>0.000000</td>\n",
       "      <td>120.000000</td>\n",
       "      <td>211.00000</td>\n",
       "      <td>0.000000</td>\n",
       "      <td>0.000000</td>\n",
       "      <td>132.000000</td>\n",
       "      <td>0.000000</td>\n",
       "      <td>0.000000</td>\n",
       "      <td>1.000000</td>\n",
       "      <td>0.000000</td>\n",
       "      <td>2.000000</td>\n",
       "      <td>0.000000</td>\n",
       "    </tr>\n",
       "    <tr>\n",
       "      <th>50%</th>\n",
       "      <td>56.000000</td>\n",
       "      <td>1.000000</td>\n",
       "      <td>1.000000</td>\n",
       "      <td>130.000000</td>\n",
       "      <td>240.00000</td>\n",
       "      <td>0.000000</td>\n",
       "      <td>1.000000</td>\n",
       "      <td>152.000000</td>\n",
       "      <td>0.000000</td>\n",
       "      <td>0.800000</td>\n",
       "      <td>1.000000</td>\n",
       "      <td>0.000000</td>\n",
       "      <td>2.000000</td>\n",
       "      <td>1.000000</td>\n",
       "    </tr>\n",
       "    <tr>\n",
       "      <th>75%</th>\n",
       "      <td>61.000000</td>\n",
       "      <td>1.000000</td>\n",
       "      <td>2.000000</td>\n",
       "      <td>140.000000</td>\n",
       "      <td>275.00000</td>\n",
       "      <td>0.000000</td>\n",
       "      <td>1.000000</td>\n",
       "      <td>166.000000</td>\n",
       "      <td>1.000000</td>\n",
       "      <td>1.800000</td>\n",
       "      <td>2.000000</td>\n",
       "      <td>1.000000</td>\n",
       "      <td>3.000000</td>\n",
       "      <td>1.000000</td>\n",
       "    </tr>\n",
       "    <tr>\n",
       "      <th>max</th>\n",
       "      <td>77.000000</td>\n",
       "      <td>1.000000</td>\n",
       "      <td>3.000000</td>\n",
       "      <td>200.000000</td>\n",
       "      <td>564.00000</td>\n",
       "      <td>1.000000</td>\n",
       "      <td>2.000000</td>\n",
       "      <td>202.000000</td>\n",
       "      <td>1.000000</td>\n",
       "      <td>6.200000</td>\n",
       "      <td>2.000000</td>\n",
       "      <td>4.000000</td>\n",
       "      <td>3.000000</td>\n",
       "      <td>1.000000</td>\n",
       "    </tr>\n",
       "  </tbody>\n",
       "</table>\n",
       "</div>"
      ],
      "text/plain": [
       "               age          sex  ...         thal       target\n",
       "count  1025.000000  1025.000000  ...  1025.000000  1025.000000\n",
       "mean     54.434146     0.695610  ...     2.323902     0.513171\n",
       "std       9.072290     0.460373  ...     0.620660     0.500070\n",
       "min      29.000000     0.000000  ...     0.000000     0.000000\n",
       "25%      48.000000     0.000000  ...     2.000000     0.000000\n",
       "50%      56.000000     1.000000  ...     2.000000     1.000000\n",
       "75%      61.000000     1.000000  ...     3.000000     1.000000\n",
       "max      77.000000     1.000000  ...     3.000000     1.000000\n",
       "\n",
       "[8 rows x 14 columns]"
      ]
     },
     "execution_count": 12,
     "metadata": {
      "tags": []
     },
     "output_type": "execute_result"
    }
   ],
   "source": [
    "heart.describe()"
   ]
  },
  {
   "cell_type": "markdown",
   "metadata": {
    "colab_type": "text",
    "id": "2D05vhm6u42y"
   },
   "source": [
    "-> The scale of each feature column is different and quite varied as well. While the maximum for age reaches 77, the maximum of chol (serum cholestoral) is 564."
   ]
  },
  {
   "cell_type": "code",
   "execution_count": null,
   "metadata": {
    "colab": {
     "base_uri": "https://localhost:8080/",
     "height": 419
    },
    "colab_type": "code",
    "id": "2Ir0pt0Nu7u8",
    "outputId": "6e47927d-a0ff-4c87-ee4b-50ec7de3fab1"
   },
   "outputs": [
    {
     "data": {
      "text/html": [
       "<div>\n",
       "<style scoped>\n",
       "    .dataframe tbody tr th:only-of-type {\n",
       "        vertical-align: middle;\n",
       "    }\n",
       "\n",
       "    .dataframe tbody tr th {\n",
       "        vertical-align: top;\n",
       "    }\n",
       "\n",
       "    .dataframe thead th {\n",
       "        text-align: right;\n",
       "    }\n",
       "</style>\n",
       "<table border=\"1\" class=\"dataframe\">\n",
       "  <thead>\n",
       "    <tr style=\"text-align: right;\">\n",
       "      <th></th>\n",
       "      <th>age</th>\n",
       "      <th>sex</th>\n",
       "      <th>cp</th>\n",
       "      <th>trestbps</th>\n",
       "      <th>chol</th>\n",
       "      <th>fbs</th>\n",
       "      <th>restecg</th>\n",
       "      <th>thalach</th>\n",
       "      <th>exang</th>\n",
       "      <th>oldpeak</th>\n",
       "      <th>slope</th>\n",
       "      <th>ca</th>\n",
       "      <th>thal</th>\n",
       "      <th>target</th>\n",
       "    </tr>\n",
       "  </thead>\n",
       "  <tbody>\n",
       "    <tr>\n",
       "      <th>0</th>\n",
       "      <td>52</td>\n",
       "      <td>1</td>\n",
       "      <td>0</td>\n",
       "      <td>125</td>\n",
       "      <td>212</td>\n",
       "      <td>0</td>\n",
       "      <td>1</td>\n",
       "      <td>168</td>\n",
       "      <td>0</td>\n",
       "      <td>1.0</td>\n",
       "      <td>2</td>\n",
       "      <td>2</td>\n",
       "      <td>3</td>\n",
       "      <td>0</td>\n",
       "    </tr>\n",
       "    <tr>\n",
       "      <th>1</th>\n",
       "      <td>53</td>\n",
       "      <td>1</td>\n",
       "      <td>0</td>\n",
       "      <td>140</td>\n",
       "      <td>203</td>\n",
       "      <td>1</td>\n",
       "      <td>0</td>\n",
       "      <td>155</td>\n",
       "      <td>1</td>\n",
       "      <td>3.1</td>\n",
       "      <td>0</td>\n",
       "      <td>0</td>\n",
       "      <td>3</td>\n",
       "      <td>0</td>\n",
       "    </tr>\n",
       "    <tr>\n",
       "      <th>2</th>\n",
       "      <td>70</td>\n",
       "      <td>1</td>\n",
       "      <td>0</td>\n",
       "      <td>145</td>\n",
       "      <td>174</td>\n",
       "      <td>0</td>\n",
       "      <td>1</td>\n",
       "      <td>125</td>\n",
       "      <td>1</td>\n",
       "      <td>2.6</td>\n",
       "      <td>0</td>\n",
       "      <td>0</td>\n",
       "      <td>3</td>\n",
       "      <td>0</td>\n",
       "    </tr>\n",
       "    <tr>\n",
       "      <th>3</th>\n",
       "      <td>61</td>\n",
       "      <td>1</td>\n",
       "      <td>0</td>\n",
       "      <td>148</td>\n",
       "      <td>203</td>\n",
       "      <td>0</td>\n",
       "      <td>1</td>\n",
       "      <td>161</td>\n",
       "      <td>0</td>\n",
       "      <td>0.0</td>\n",
       "      <td>2</td>\n",
       "      <td>1</td>\n",
       "      <td>3</td>\n",
       "      <td>0</td>\n",
       "    </tr>\n",
       "    <tr>\n",
       "      <th>4</th>\n",
       "      <td>62</td>\n",
       "      <td>0</td>\n",
       "      <td>0</td>\n",
       "      <td>138</td>\n",
       "      <td>294</td>\n",
       "      <td>1</td>\n",
       "      <td>1</td>\n",
       "      <td>106</td>\n",
       "      <td>0</td>\n",
       "      <td>1.9</td>\n",
       "      <td>1</td>\n",
       "      <td>3</td>\n",
       "      <td>2</td>\n",
       "      <td>0</td>\n",
       "    </tr>\n",
       "    <tr>\n",
       "      <th>...</th>\n",
       "      <td>...</td>\n",
       "      <td>...</td>\n",
       "      <td>...</td>\n",
       "      <td>...</td>\n",
       "      <td>...</td>\n",
       "      <td>...</td>\n",
       "      <td>...</td>\n",
       "      <td>...</td>\n",
       "      <td>...</td>\n",
       "      <td>...</td>\n",
       "      <td>...</td>\n",
       "      <td>...</td>\n",
       "      <td>...</td>\n",
       "      <td>...</td>\n",
       "    </tr>\n",
       "    <tr>\n",
       "      <th>1020</th>\n",
       "      <td>59</td>\n",
       "      <td>1</td>\n",
       "      <td>1</td>\n",
       "      <td>140</td>\n",
       "      <td>221</td>\n",
       "      <td>0</td>\n",
       "      <td>1</td>\n",
       "      <td>164</td>\n",
       "      <td>1</td>\n",
       "      <td>0.0</td>\n",
       "      <td>2</td>\n",
       "      <td>0</td>\n",
       "      <td>2</td>\n",
       "      <td>1</td>\n",
       "    </tr>\n",
       "    <tr>\n",
       "      <th>1021</th>\n",
       "      <td>60</td>\n",
       "      <td>1</td>\n",
       "      <td>0</td>\n",
       "      <td>125</td>\n",
       "      <td>258</td>\n",
       "      <td>0</td>\n",
       "      <td>0</td>\n",
       "      <td>141</td>\n",
       "      <td>1</td>\n",
       "      <td>2.8</td>\n",
       "      <td>1</td>\n",
       "      <td>1</td>\n",
       "      <td>3</td>\n",
       "      <td>0</td>\n",
       "    </tr>\n",
       "    <tr>\n",
       "      <th>1022</th>\n",
       "      <td>47</td>\n",
       "      <td>1</td>\n",
       "      <td>0</td>\n",
       "      <td>110</td>\n",
       "      <td>275</td>\n",
       "      <td>0</td>\n",
       "      <td>0</td>\n",
       "      <td>118</td>\n",
       "      <td>1</td>\n",
       "      <td>1.0</td>\n",
       "      <td>1</td>\n",
       "      <td>1</td>\n",
       "      <td>2</td>\n",
       "      <td>0</td>\n",
       "    </tr>\n",
       "    <tr>\n",
       "      <th>1023</th>\n",
       "      <td>50</td>\n",
       "      <td>0</td>\n",
       "      <td>0</td>\n",
       "      <td>110</td>\n",
       "      <td>254</td>\n",
       "      <td>0</td>\n",
       "      <td>0</td>\n",
       "      <td>159</td>\n",
       "      <td>0</td>\n",
       "      <td>0.0</td>\n",
       "      <td>2</td>\n",
       "      <td>0</td>\n",
       "      <td>2</td>\n",
       "      <td>1</td>\n",
       "    </tr>\n",
       "    <tr>\n",
       "      <th>1024</th>\n",
       "      <td>54</td>\n",
       "      <td>1</td>\n",
       "      <td>0</td>\n",
       "      <td>120</td>\n",
       "      <td>188</td>\n",
       "      <td>0</td>\n",
       "      <td>1</td>\n",
       "      <td>113</td>\n",
       "      <td>0</td>\n",
       "      <td>1.4</td>\n",
       "      <td>1</td>\n",
       "      <td>1</td>\n",
       "      <td>3</td>\n",
       "      <td>0</td>\n",
       "    </tr>\n",
       "  </tbody>\n",
       "</table>\n",
       "<p>1025 rows × 14 columns</p>\n",
       "</div>"
      ],
      "text/plain": [
       "      age  sex  cp  trestbps  chol  ...  oldpeak  slope  ca  thal  target\n",
       "0      52    1   0       125   212  ...      1.0      2   2     3       0\n",
       "1      53    1   0       140   203  ...      3.1      0   0     3       0\n",
       "2      70    1   0       145   174  ...      2.6      0   0     3       0\n",
       "3      61    1   0       148   203  ...      0.0      2   1     3       0\n",
       "4      62    0   0       138   294  ...      1.9      1   3     2       0\n",
       "...   ...  ...  ..       ...   ...  ...      ...    ...  ..   ...     ...\n",
       "1020   59    1   1       140   221  ...      0.0      2   0     2       1\n",
       "1021   60    1   0       125   258  ...      2.8      1   1     3       0\n",
       "1022   47    1   0       110   275  ...      1.0      1   1     2       0\n",
       "1023   50    0   0       110   254  ...      0.0      2   0     2       1\n",
       "1024   54    1   0       120   188  ...      1.4      1   1     3       0\n",
       "\n",
       "[1025 rows x 14 columns]"
      ]
     },
     "execution_count": 13,
     "metadata": {
      "tags": []
     },
     "output_type": "execute_result"
    }
   ],
   "source": [
    "heart"
   ]
  },
  {
   "cell_type": "code",
   "execution_count": null,
   "metadata": {
    "colab": {
     "base_uri": "https://localhost:8080/",
     "height": 204
    },
    "colab_type": "code",
    "id": "TbX6OHho8ejS",
    "outputId": "b089d2de-fbcc-4632-aaca-c7c066a8f9a8"
   },
   "outputs": [
    {
     "data": {
      "text/html": [
       "<div>\n",
       "<style scoped>\n",
       "    .dataframe tbody tr th:only-of-type {\n",
       "        vertical-align: middle;\n",
       "    }\n",
       "\n",
       "    .dataframe tbody tr th {\n",
       "        vertical-align: top;\n",
       "    }\n",
       "\n",
       "    .dataframe thead th {\n",
       "        text-align: right;\n",
       "    }\n",
       "</style>\n",
       "<table border=\"1\" class=\"dataframe\">\n",
       "  <thead>\n",
       "    <tr style=\"text-align: right;\">\n",
       "      <th></th>\n",
       "      <th>age</th>\n",
       "      <th>sex</th>\n",
       "      <th>cp</th>\n",
       "      <th>trestbps</th>\n",
       "      <th>chol</th>\n",
       "      <th>fbs</th>\n",
       "      <th>restecg</th>\n",
       "      <th>thalach</th>\n",
       "      <th>exang</th>\n",
       "      <th>oldpeak</th>\n",
       "      <th>slope</th>\n",
       "      <th>ca</th>\n",
       "      <th>thal</th>\n",
       "      <th>target</th>\n",
       "    </tr>\n",
       "  </thead>\n",
       "  <tbody>\n",
       "    <tr>\n",
       "      <th>0</th>\n",
       "      <td>52</td>\n",
       "      <td>1</td>\n",
       "      <td>0</td>\n",
       "      <td>125</td>\n",
       "      <td>212</td>\n",
       "      <td>0</td>\n",
       "      <td>1</td>\n",
       "      <td>168</td>\n",
       "      <td>0</td>\n",
       "      <td>1.0</td>\n",
       "      <td>2</td>\n",
       "      <td>2</td>\n",
       "      <td>3</td>\n",
       "      <td>0</td>\n",
       "    </tr>\n",
       "    <tr>\n",
       "      <th>1</th>\n",
       "      <td>53</td>\n",
       "      <td>1</td>\n",
       "      <td>0</td>\n",
       "      <td>140</td>\n",
       "      <td>203</td>\n",
       "      <td>1</td>\n",
       "      <td>0</td>\n",
       "      <td>155</td>\n",
       "      <td>1</td>\n",
       "      <td>3.1</td>\n",
       "      <td>0</td>\n",
       "      <td>0</td>\n",
       "      <td>3</td>\n",
       "      <td>0</td>\n",
       "    </tr>\n",
       "    <tr>\n",
       "      <th>2</th>\n",
       "      <td>70</td>\n",
       "      <td>1</td>\n",
       "      <td>0</td>\n",
       "      <td>145</td>\n",
       "      <td>174</td>\n",
       "      <td>0</td>\n",
       "      <td>1</td>\n",
       "      <td>125</td>\n",
       "      <td>1</td>\n",
       "      <td>2.6</td>\n",
       "      <td>0</td>\n",
       "      <td>0</td>\n",
       "      <td>3</td>\n",
       "      <td>0</td>\n",
       "    </tr>\n",
       "    <tr>\n",
       "      <th>3</th>\n",
       "      <td>61</td>\n",
       "      <td>1</td>\n",
       "      <td>0</td>\n",
       "      <td>148</td>\n",
       "      <td>203</td>\n",
       "      <td>0</td>\n",
       "      <td>1</td>\n",
       "      <td>161</td>\n",
       "      <td>0</td>\n",
       "      <td>0.0</td>\n",
       "      <td>2</td>\n",
       "      <td>1</td>\n",
       "      <td>3</td>\n",
       "      <td>0</td>\n",
       "    </tr>\n",
       "    <tr>\n",
       "      <th>4</th>\n",
       "      <td>62</td>\n",
       "      <td>0</td>\n",
       "      <td>0</td>\n",
       "      <td>138</td>\n",
       "      <td>294</td>\n",
       "      <td>1</td>\n",
       "      <td>1</td>\n",
       "      <td>106</td>\n",
       "      <td>0</td>\n",
       "      <td>1.9</td>\n",
       "      <td>1</td>\n",
       "      <td>3</td>\n",
       "      <td>2</td>\n",
       "      <td>0</td>\n",
       "    </tr>\n",
       "  </tbody>\n",
       "</table>\n",
       "</div>"
      ],
      "text/plain": [
       "   age  sex  cp  trestbps  chol  fbs  ...  exang  oldpeak  slope  ca  thal  target\n",
       "0   52    1   0       125   212    0  ...      0      1.0      2   2     3       0\n",
       "1   53    1   0       140   203    1  ...      1      3.1      0   0     3       0\n",
       "2   70    1   0       145   174    0  ...      1      2.6      0   0     3       0\n",
       "3   61    1   0       148   203    0  ...      0      0.0      2   1     3       0\n",
       "4   62    0   0       138   294    1  ...      0      1.9      1   3     2       0\n",
       "\n",
       "[5 rows x 14 columns]"
      ]
     },
     "execution_count": 14,
     "metadata": {
      "tags": []
     },
     "output_type": "execute_result"
    }
   ],
   "source": [
    "heart.head()"
   ]
  },
  {
   "cell_type": "code",
   "execution_count": null,
   "metadata": {
    "colab": {
     "base_uri": "https://localhost:8080/",
     "height": 204
    },
    "colab_type": "code",
    "id": "g5JRMAQ97BmW",
    "outputId": "7be9a67f-61bd-4a4d-83bf-c51a3776eeb0"
   },
   "outputs": [
    {
     "data": {
      "text/html": [
       "<div>\n",
       "<style scoped>\n",
       "    .dataframe tbody tr th:only-of-type {\n",
       "        vertical-align: middle;\n",
       "    }\n",
       "\n",
       "    .dataframe tbody tr th {\n",
       "        vertical-align: top;\n",
       "    }\n",
       "\n",
       "    .dataframe thead th {\n",
       "        text-align: right;\n",
       "    }\n",
       "</style>\n",
       "<table border=\"1\" class=\"dataframe\">\n",
       "  <thead>\n",
       "    <tr style=\"text-align: right;\">\n",
       "      <th></th>\n",
       "      <th>age</th>\n",
       "      <th>sex</th>\n",
       "      <th>cp</th>\n",
       "      <th>trestbps</th>\n",
       "      <th>chol</th>\n",
       "      <th>fbs</th>\n",
       "      <th>restecg</th>\n",
       "      <th>thalach</th>\n",
       "      <th>exang</th>\n",
       "      <th>oldpeak</th>\n",
       "      <th>slope</th>\n",
       "      <th>ca</th>\n",
       "      <th>thal</th>\n",
       "      <th>target</th>\n",
       "    </tr>\n",
       "  </thead>\n",
       "  <tbody>\n",
       "    <tr>\n",
       "      <th>1020</th>\n",
       "      <td>59</td>\n",
       "      <td>1</td>\n",
       "      <td>1</td>\n",
       "      <td>140</td>\n",
       "      <td>221</td>\n",
       "      <td>0</td>\n",
       "      <td>1</td>\n",
       "      <td>164</td>\n",
       "      <td>1</td>\n",
       "      <td>0.0</td>\n",
       "      <td>2</td>\n",
       "      <td>0</td>\n",
       "      <td>2</td>\n",
       "      <td>1</td>\n",
       "    </tr>\n",
       "    <tr>\n",
       "      <th>1021</th>\n",
       "      <td>60</td>\n",
       "      <td>1</td>\n",
       "      <td>0</td>\n",
       "      <td>125</td>\n",
       "      <td>258</td>\n",
       "      <td>0</td>\n",
       "      <td>0</td>\n",
       "      <td>141</td>\n",
       "      <td>1</td>\n",
       "      <td>2.8</td>\n",
       "      <td>1</td>\n",
       "      <td>1</td>\n",
       "      <td>3</td>\n",
       "      <td>0</td>\n",
       "    </tr>\n",
       "    <tr>\n",
       "      <th>1022</th>\n",
       "      <td>47</td>\n",
       "      <td>1</td>\n",
       "      <td>0</td>\n",
       "      <td>110</td>\n",
       "      <td>275</td>\n",
       "      <td>0</td>\n",
       "      <td>0</td>\n",
       "      <td>118</td>\n",
       "      <td>1</td>\n",
       "      <td>1.0</td>\n",
       "      <td>1</td>\n",
       "      <td>1</td>\n",
       "      <td>2</td>\n",
       "      <td>0</td>\n",
       "    </tr>\n",
       "    <tr>\n",
       "      <th>1023</th>\n",
       "      <td>50</td>\n",
       "      <td>0</td>\n",
       "      <td>0</td>\n",
       "      <td>110</td>\n",
       "      <td>254</td>\n",
       "      <td>0</td>\n",
       "      <td>0</td>\n",
       "      <td>159</td>\n",
       "      <td>0</td>\n",
       "      <td>0.0</td>\n",
       "      <td>2</td>\n",
       "      <td>0</td>\n",
       "      <td>2</td>\n",
       "      <td>1</td>\n",
       "    </tr>\n",
       "    <tr>\n",
       "      <th>1024</th>\n",
       "      <td>54</td>\n",
       "      <td>1</td>\n",
       "      <td>0</td>\n",
       "      <td>120</td>\n",
       "      <td>188</td>\n",
       "      <td>0</td>\n",
       "      <td>1</td>\n",
       "      <td>113</td>\n",
       "      <td>0</td>\n",
       "      <td>1.4</td>\n",
       "      <td>1</td>\n",
       "      <td>1</td>\n",
       "      <td>3</td>\n",
       "      <td>0</td>\n",
       "    </tr>\n",
       "  </tbody>\n",
       "</table>\n",
       "</div>"
      ],
      "text/plain": [
       "      age  sex  cp  trestbps  chol  ...  oldpeak  slope  ca  thal  target\n",
       "1020   59    1   1       140   221  ...      0.0      2   0     2       1\n",
       "1021   60    1   0       125   258  ...      2.8      1   1     3       0\n",
       "1022   47    1   0       110   275  ...      1.0      1   1     2       0\n",
       "1023   50    0   0       110   254  ...      0.0      2   0     2       1\n",
       "1024   54    1   0       120   188  ...      1.4      1   1     3       0\n",
       "\n",
       "[5 rows x 14 columns]"
      ]
     },
     "execution_count": 15,
     "metadata": {
      "tags": []
     },
     "output_type": "execute_result"
    }
   ],
   "source": [
    "heart.tail()"
   ]
  },
  {
   "cell_type": "code",
   "execution_count": null,
   "metadata": {
    "colab": {
     "base_uri": "https://localhost:8080/",
     "height": 34
    },
    "colab_type": "code",
    "id": "ORRGzF4UvAD0",
    "outputId": "1ee37981-8aa8-42a9-efde-635eae99d635"
   },
   "outputs": [
    {
     "data": {
      "text/plain": [
       "(1025, 14)"
      ]
     },
     "execution_count": 16,
     "metadata": {
      "tags": []
     },
     "output_type": "execute_result"
    }
   ],
   "source": [
    "heart.shape"
   ]
  },
  {
   "cell_type": "code",
   "execution_count": null,
   "metadata": {
    "colab": {
     "base_uri": "https://localhost:8080/",
     "height": 34
    },
    "colab_type": "code",
    "id": "YJJdQQGXvFf_",
    "outputId": "bbce8829-1eb4-4da3-bf4c-1ddc96b9bcda"
   },
   "outputs": [
    {
     "data": {
      "text/plain": [
       "14350"
      ]
     },
     "execution_count": 17,
     "metadata": {
      "tags": []
     },
     "output_type": "execute_result"
    }
   ],
   "source": [
    "heart.size"
   ]
  },
  {
   "cell_type": "markdown",
   "metadata": {
    "colab_type": "text",
    "id": "qG2mr5bK7j1m"
   },
   "source": [
    "#checking whether there are balanced number of 0's and 1's"
   ]
  },
  {
   "cell_type": "code",
   "execution_count": null,
   "metadata": {
    "colab": {
     "base_uri": "https://localhost:8080/",
     "height": 68
    },
    "colab_type": "code",
    "id": "t4dKJGjYv5ZA",
    "outputId": "fed89566-f258-4aa0-d7ca-9dfe1540ab35"
   },
   "outputs": [
    {
     "data": {
      "text/plain": [
       "1    526\n",
       "0    499\n",
       "Name: target, dtype: int64"
      ]
     },
     "execution_count": 18,
     "metadata": {
      "tags": []
     },
     "output_type": "execute_result"
    }
   ],
   "source": [
    "heart['target'].value_counts()"
   ]
  },
  {
   "cell_type": "markdown",
   "metadata": {
    "colab_type": "text",
    "id": "poSSSRXr7_v-"
   },
   "source": [
    "-> There is no balanced count of 0 and 1 so, to balance them by equal values iam using down sampling"
   ]
  },
  {
   "cell_type": "code",
   "execution_count": null,
   "metadata": {
    "colab": {},
    "colab_type": "code",
    "id": "cBRS4tiz04kT"
   },
   "outputs": [],
   "source": [
    "# Separate input features (X) and target variable (y)\n",
    "y = heart.target\n",
    "X = heart.drop('target', axis=1)"
   ]
  },
  {
   "cell_type": "markdown",
   "metadata": {
    "colab_type": "text",
    "id": "MV1ijNiy5vCW"
   },
   "source": [
    "# **Down** **Sampling**"
   ]
  },
  {
   "cell_type": "code",
   "execution_count": null,
   "metadata": {
    "colab": {
     "base_uri": "https://localhost:8080/",
     "height": 68
    },
    "colab_type": "code",
    "id": "IITAbPLK1rkw",
    "outputId": "224f55f8-876e-45f0-8305-9dcba22e59f8"
   },
   "outputs": [
    {
     "data": {
      "text/plain": [
       "1    526\n",
       "0    526\n",
       "Name: target, dtype: int64"
      ]
     },
     "execution_count": 20,
     "metadata": {
      "tags": []
     },
     "output_type": "execute_result"
    }
   ],
   "source": [
    "from sklearn.utils import resample\n",
    "\n",
    "# Separate majority and minority classes\n",
    "heart_majority = heart[heart.target==0]\n",
    "heart_minority = heart[heart.target==1]\n",
    " \n",
    "# Downsample majority class\n",
    "heart_majority_downsampled = resample(heart_majority, \n",
    "                                 replace=True,    # sample without replacement\n",
    "                                 n_samples=526,     # to match minority class\n",
    "                                 random_state=123) # reproducible results\n",
    " \n",
    "# Combine minority class with downsampled majority class\n",
    "heart_downsampled = pd.concat([heart_majority_downsampled, heart_minority])\n",
    " \n",
    "# Display new class counts\n",
    "heart_downsampled.target.value_counts()"
   ]
  },
  {
   "cell_type": "markdown",
   "metadata": {
    "colab_type": "text",
    "id": "9gteOG3p8fYb"
   },
   "source": [
    "->now, i got a equal values by doing down sampling and it is a balanced dataset"
   ]
  },
  {
   "cell_type": "markdown",
   "metadata": {
    "colab_type": "text",
    "id": "33f36Sec_OpE"
   },
   "source": [
    "# **checking for missing values** **and duplicated values**"
   ]
  },
  {
   "cell_type": "code",
   "execution_count": null,
   "metadata": {
    "colab": {
     "base_uri": "https://localhost:8080/",
     "height": 272
    },
    "colab_type": "code",
    "id": "nHuMCL0u_VFZ",
    "outputId": "15b574b2-c22b-4803-d595-ef509a53c472"
   },
   "outputs": [
    {
     "data": {
      "text/plain": [
       "age         0\n",
       "sex         0\n",
       "cp          0\n",
       "trestbps    0\n",
       "chol        0\n",
       "fbs         0\n",
       "restecg     0\n",
       "thalach     0\n",
       "exang       0\n",
       "oldpeak     0\n",
       "slope       0\n",
       "ca          0\n",
       "thal        0\n",
       "target      0\n",
       "dtype: int64"
      ]
     },
     "execution_count": 21,
     "metadata": {
      "tags": []
     },
     "output_type": "execute_result"
    }
   ],
   "source": [
    "heart.isnull().sum() # no null values in the dataset"
   ]
  },
  {
   "cell_type": "code",
   "execution_count": null,
   "metadata": {
    "colab": {
     "base_uri": "https://localhost:8080/",
     "height": 34
    },
    "colab_type": "code",
    "id": "oHIfm3IRJbbK",
    "outputId": "c57690f2-cdeb-4298-a0e2-9ddaf046d8d6"
   },
   "outputs": [
    {
     "name": "stdout",
     "output_type": "stream",
     "text": [
      "duplicated entries: 723\n"
     ]
    }
   ],
   "source": [
    "print('duplicated entries: {}'.format(heart.duplicated().sum()))"
   ]
  },
  {
   "cell_type": "code",
   "execution_count": null,
   "metadata": {
    "colab": {
     "base_uri": "https://localhost:8080/",
     "height": 34
    },
    "colab_type": "code",
    "id": "z4YPlMSyJxot",
    "outputId": "e4a3fe91-3584-4954-a998-97277e21e4d6"
   },
   "outputs": [
    {
     "data": {
      "text/plain": [
       "(302, 14)"
      ]
     },
     "execution_count": 23,
     "metadata": {
      "tags": []
     },
     "output_type": "execute_result"
    }
   ],
   "source": [
    "heart.drop_duplicates(inplace = True)\n",
    "heart.shape"
   ]
  },
  {
   "cell_type": "code",
   "execution_count": null,
   "metadata": {
    "colab": {
     "base_uri": "https://localhost:8080/",
     "height": 34
    },
    "colab_type": "code",
    "id": "BVznwa3TKE8d",
    "outputId": "78d4c5f6-3b2c-41d4-9008-6f1a59349065"
   },
   "outputs": [
    {
     "name": "stdout",
     "output_type": "stream",
     "text": [
      "duplicate entries: 0\n"
     ]
    }
   ],
   "source": [
    "print('duplicate entries: {}'.format(heart.duplicated().sum())) #no duplicates values in the dataset"
   ]
  },
  {
   "cell_type": "markdown",
   "metadata": {
    "colab_type": "text",
    "id": "ogLYoviOxl-U"
   },
   "source": [
    "Understanding the data:"
   ]
  },
  {
   "cell_type": "markdown",
   "metadata": {
    "colab_type": "text",
    "id": "K16lfEUMxq2l"
   },
   "source": [
    "# **Correlation** **Matrix**"
   ]
  },
  {
   "cell_type": "markdown",
   "metadata": {
    "colab_type": "text",
    "id": "Vp5jbH72xvFN"
   },
   "source": [
    ">Now, we can use visualizations to better understand our data and then look at any processing we might want to do.\n",
    "\n"
   ]
  },
  {
   "cell_type": "code",
   "execution_count": null,
   "metadata": {
    "colab": {
     "base_uri": "https://localhost:8080/",
     "height": 833
    },
    "colab_type": "code",
    "id": "4dH2qA0Ixztj",
    "outputId": "b0086653-c420-4301-de04-43921f963b58"
   },
   "outputs": [
    {
     "data": {
      "text/plain": [
       "<matplotlib.colorbar.Colorbar at 0x7f78c6eda710>"
      ]
     },
     "execution_count": 25,
     "metadata": {
      "tags": []
     },
     "output_type": "execute_result"
    },
    {
     "data": {
      "image/png": "[encoded data removed]",
      "text/plain": [
       "<Figure size 1008x1008 with 2 Axes>"
      ]
     },
     "metadata": {
      "needs_background": "light",
      "tags": []
     },
     "output_type": "display_data"
    }
   ],
   "source": [
    "rcParams['figure.figsize'] = 20, 14\n",
    "plt.matshow(heart.corr())\n",
    "plt.yticks(np.arange(heart.shape[1]), heart.columns)\n",
    "plt.xticks(np.arange(heart.shape[1]), heart.columns)\n",
    "plt.colorbar()"
   ]
  },
  {
   "cell_type": "markdown",
   "metadata": {
    "colab_type": "text",
    "id": "ikM0CRHZx-CG"
   },
   "source": [
    "-> Taking a look at the correlation matrix above, it's easy to see that a few features have negative correlation with the target value while some have positive. Next, I'll take a look at the histograms for each variable."
   ]
  },
  {
   "cell_type": "markdown",
   "metadata": {
    "colab_type": "text",
    "id": "KY_HY9TzyC0_"
   },
   "source": [
    "# **Histogram**"
   ]
  },
  {
   "cell_type": "code",
   "execution_count": null,
   "metadata": {
    "colab": {
     "base_uri": "https://localhost:8080/",
     "height": 1000
    },
    "colab_type": "code",
    "id": "4VlmnYhhyMwy",
    "outputId": "7694bd48-c2c1-4851-9168-89f7063d0146"
   },
   "outputs": [
    {
     "data": {
      "text/plain": [
       "array([[<matplotlib.axes._subplots.AxesSubplot object at 0x7f78c69af400>,\n",
       "        <matplotlib.axes._subplots.AxesSubplot object at 0x7f78c695a6a0>,\n",
       "        <matplotlib.axes._subplots.AxesSubplot object at 0x7f78c690b908>,\n",
       "        <matplotlib.axes._subplots.AxesSubplot object at 0x7f78c68bbb70>],\n",
       "       [<matplotlib.axes._subplots.AxesSubplot object at 0x7f78c68eedd8>,\n",
       "        <matplotlib.axes._subplots.AxesSubplot object at 0x7f78c68a9080>,\n",
       "        <matplotlib.axes._subplots.AxesSubplot object at 0x7f78c685b2e8>,\n",
       "        <matplotlib.axes._subplots.AxesSubplot object at 0x7f78c680e518>],\n",
       "       [<matplotlib.axes._subplots.AxesSubplot object at 0x7f78c680e588>,\n",
       "        <matplotlib.axes._subplots.AxesSubplot object at 0x7f78c6776a20>,\n",
       "        <matplotlib.axes._subplots.AxesSubplot object at 0x7f78c67aac88>,\n",
       "        <matplotlib.axes._subplots.AxesSubplot object at 0x7f78c675eef0>],\n",
       "       [<matplotlib.axes._subplots.AxesSubplot object at 0x7f78c671e198>,\n",
       "        <matplotlib.axes._subplots.AxesSubplot object at 0x7f78c66d4400>,\n",
       "        <matplotlib.axes._subplots.AxesSubplot object at 0x7f78c6687668>,\n",
       "        <matplotlib.axes._subplots.AxesSubplot object at 0x7f78c663b8d0>]],\n",
       "      dtype=object)"
      ]
     },
     "execution_count": 26,
     "metadata": {
      "tags": []
     },
     "output_type": "execute_result"
    },
    {
     "data": {
      "image/png": "[encoded data removed]",
      "text/plain": [
       "<Figure size 1440x1008 with 16 Axes>"
      ]
     },
     "metadata": {
      "needs_background": "light",
      "tags": []
     },
     "output_type": "display_data"
    }
   ],
   "source": [
    "heart.hist()"
   ]
  },
  {
   "cell_type": "markdown",
   "metadata": {
    "colab_type": "text",
    "id": "8HDjIrrjyRIh"
   },
   "source": [
    "-> Taking a look at the histograms above, I can see that each feature has a different range of distribution. Thus, using scaling before our predictions should be of great use. Also, the categorical features do stand out."
   ]
  },
  {
   "cell_type": "markdown",
   "metadata": {
    "colab_type": "text",
    "id": "UXJliStzyVv4"
   },
   "source": [
    "->It's always a good practice to work with a dataset where the target classes are of approximately equal size. Thus, let's check for the same."
   ]
  },
  {
   "cell_type": "code",
   "execution_count": null,
   "metadata": {
    "colab": {
     "base_uri": "https://localhost:8080/",
     "height": 421
    },
    "colab_type": "code",
    "id": "PEGO1KEvyYSy",
    "outputId": "7185141f-ee2d-45d9-e7f8-024c410f5a4c"
   },
   "outputs": [
    {
     "data": {
      "text/plain": [
       "Text(0.5, 1.0, 'Count of each Target Class')"
      ]
     },
     "execution_count": 27,
     "metadata": {
      "tags": []
     },
     "output_type": "execute_result"
    },
    {
     "data": {
      "image/png": "[encoded data removed]",
      "text/plain": [
       "<Figure size 576x432 with 1 Axes>"
      ]
     },
     "metadata": {
      "needs_background": "light",
      "tags": []
     },
     "output_type": "display_data"
    }
   ],
   "source": [
    "rcParams['figure.figsize'] = 8,6\n",
    "plt.bar(heart['target'].unique(), heart['target'].value_counts(), color = ['red', 'green'])\n",
    "plt.xticks([0, 1])\n",
    "plt.xlabel('Target Classes')\n",
    "plt.ylabel('Count')\n",
    "plt.title('Count of each Target Class')"
   ]
  },
  {
   "cell_type": "markdown",
   "metadata": {
    "colab_type": "text",
    "id": "-lrC6EJKykBf"
   },
   "source": [
    "-> The two classes are not exactly 50% each but the ratio is good enough to continue without dropping/increasing our data."
   ]
  },
  {
   "cell_type": "markdown",
   "metadata": {
    "colab_type": "text",
    "id": "KzGCo9MiyqVX"
   },
   "source": [
    "# Data **Processing**"
   ]
  },
  {
   "cell_type": "markdown",
   "metadata": {
    "colab_type": "text",
    "id": "sTSvJK1_y701"
   },
   "source": [
    "**Now,I will use the StandardScaler from sklearn to scale my dataset.**"
   ]
  },
  {
   "cell_type": "code",
   "execution_count": null,
   "metadata": {
    "colab": {
     "base_uri": "https://localhost:8080/",
     "height": 439
    },
    "colab_type": "code",
    "id": "NTD0bK8BWHHU",
    "outputId": "f84fa761-6d25-4947-ddeb-0a2d4c4cc732"
   },
   "outputs": [
    {
     "data": {
      "text/html": [
       "<div>\n",
       "<style scoped>\n",
       "    .dataframe tbody tr th:only-of-type {\n",
       "        vertical-align: middle;\n",
       "    }\n",
       "\n",
       "    .dataframe tbody tr th {\n",
       "        vertical-align: top;\n",
       "    }\n",
       "\n",
       "    .dataframe thead th {\n",
       "        text-align: right;\n",
       "    }\n",
       "</style>\n",
       "<table border=\"1\" class=\"dataframe\">\n",
       "  <thead>\n",
       "    <tr style=\"text-align: right;\">\n",
       "      <th></th>\n",
       "      <th>age</th>\n",
       "      <th>trestbps</th>\n",
       "      <th>chol</th>\n",
       "      <th>thalach</th>\n",
       "      <th>oldpeak</th>\n",
       "      <th>sex_0</th>\n",
       "      <th>sex_1</th>\n",
       "      <th>cp_0</th>\n",
       "      <th>cp_1</th>\n",
       "      <th>cp_2</th>\n",
       "      <th>cp_3</th>\n",
       "      <th>fbs_0</th>\n",
       "      <th>fbs_1</th>\n",
       "      <th>restecg_0</th>\n",
       "      <th>restecg_1</th>\n",
       "      <th>restecg_2</th>\n",
       "      <th>exang_0</th>\n",
       "      <th>exang_1</th>\n",
       "      <th>slope_0</th>\n",
       "      <th>slope_1</th>\n",
       "      <th>slope_2</th>\n",
       "      <th>ca_0</th>\n",
       "      <th>ca_1</th>\n",
       "      <th>ca_2</th>\n",
       "      <th>ca_3</th>\n",
       "      <th>ca_4</th>\n",
       "      <th>thal_0</th>\n",
       "      <th>thal_1</th>\n",
       "      <th>thal_2</th>\n",
       "      <th>thal_3</th>\n",
       "    </tr>\n",
       "  </thead>\n",
       "  <tbody>\n",
       "    <tr>\n",
       "      <th>0</th>\n",
       "      <td>1.175316</td>\n",
       "      <td>1.509071</td>\n",
       "      <td>0.421525</td>\n",
       "      <td>-0.028080</td>\n",
       "      <td>-0.236701</td>\n",
       "      <td>1.468418</td>\n",
       "      <td>-1.468418</td>\n",
       "      <td>-1.04042</td>\n",
       "      <td>-0.425778</td>\n",
       "      <td>1.575677</td>\n",
       "      <td>-0.203069</td>\n",
       "      <td>0.409426</td>\n",
       "      <td>-0.409426</td>\n",
       "      <td>-0.923694</td>\n",
       "      <td>0.96115</td>\n",
       "      <td>-0.142134</td>\n",
       "      <td>0.728219</td>\n",
       "      <td>-0.728219</td>\n",
       "      <td>-0.272888</td>\n",
       "      <td>-0.96115</td>\n",
       "      <td>1.104437</td>\n",
       "      <td>0.809776</td>\n",
       "      <td>-0.504637</td>\n",
       "      <td>-0.384353</td>\n",
       "      <td>-0.239983</td>\n",
       "      <td>-0.1</td>\n",
       "      <td>-0.070535</td>\n",
       "      <td>-0.239983</td>\n",
       "      <td>0.914529</td>\n",
       "      <td>-0.809776</td>\n",
       "    </tr>\n",
       "    <tr>\n",
       "      <th>1</th>\n",
       "      <td>0.210655</td>\n",
       "      <td>0.013328</td>\n",
       "      <td>-0.456102</td>\n",
       "      <td>0.631484</td>\n",
       "      <td>-0.889446</td>\n",
       "      <td>-0.681005</td>\n",
       "      <td>0.681005</td>\n",
       "      <td>-1.04042</td>\n",
       "      <td>2.348644</td>\n",
       "      <td>-0.634648</td>\n",
       "      <td>-0.203069</td>\n",
       "      <td>0.409426</td>\n",
       "      <td>-0.409426</td>\n",
       "      <td>1.082609</td>\n",
       "      <td>-1.04042</td>\n",
       "      <td>-0.142134</td>\n",
       "      <td>0.728219</td>\n",
       "      <td>-0.728219</td>\n",
       "      <td>-0.272888</td>\n",
       "      <td>-0.96115</td>\n",
       "      <td>1.104437</td>\n",
       "      <td>0.809776</td>\n",
       "      <td>-0.504637</td>\n",
       "      <td>-0.384353</td>\n",
       "      <td>-0.239983</td>\n",
       "      <td>-0.1</td>\n",
       "      <td>-0.070535</td>\n",
       "      <td>-0.239983</td>\n",
       "      <td>-1.093459</td>\n",
       "      <td>1.234909</td>\n",
       "    </tr>\n",
       "    <tr>\n",
       "      <th>2</th>\n",
       "      <td>0.853762</td>\n",
       "      <td>0.013328</td>\n",
       "      <td>0.311822</td>\n",
       "      <td>-2.270600</td>\n",
       "      <td>0.089672</td>\n",
       "      <td>1.468418</td>\n",
       "      <td>-1.468418</td>\n",
       "      <td>-1.04042</td>\n",
       "      <td>-0.425778</td>\n",
       "      <td>1.575677</td>\n",
       "      <td>-0.203069</td>\n",
       "      <td>0.409426</td>\n",
       "      <td>-0.409426</td>\n",
       "      <td>-0.923694</td>\n",
       "      <td>0.96115</td>\n",
       "      <td>-0.142134</td>\n",
       "      <td>0.728219</td>\n",
       "      <td>-0.728219</td>\n",
       "      <td>-0.272888</td>\n",
       "      <td>1.04042</td>\n",
       "      <td>-0.905439</td>\n",
       "      <td>-1.234909</td>\n",
       "      <td>1.981623</td>\n",
       "      <td>-0.384353</td>\n",
       "      <td>-0.239983</td>\n",
       "      <td>-0.1</td>\n",
       "      <td>-0.070535</td>\n",
       "      <td>-0.239983</td>\n",
       "      <td>-1.093459</td>\n",
       "      <td>1.234909</td>\n",
       "    </tr>\n",
       "    <tr>\n",
       "      <th>3</th>\n",
       "      <td>0.425024</td>\n",
       "      <td>-0.584969</td>\n",
       "      <td>1.719682</td>\n",
       "      <td>1.027223</td>\n",
       "      <td>-0.889446</td>\n",
       "      <td>1.468418</td>\n",
       "      <td>-1.468418</td>\n",
       "      <td>-1.04042</td>\n",
       "      <td>-0.425778</td>\n",
       "      <td>1.575677</td>\n",
       "      <td>-0.203069</td>\n",
       "      <td>0.409426</td>\n",
       "      <td>-0.409426</td>\n",
       "      <td>-0.923694</td>\n",
       "      <td>0.96115</td>\n",
       "      <td>-0.142134</td>\n",
       "      <td>0.728219</td>\n",
       "      <td>-0.728219</td>\n",
       "      <td>-0.272888</td>\n",
       "      <td>-0.96115</td>\n",
       "      <td>1.104437</td>\n",
       "      <td>0.809776</td>\n",
       "      <td>-0.504637</td>\n",
       "      <td>-0.384353</td>\n",
       "      <td>-0.239983</td>\n",
       "      <td>-0.1</td>\n",
       "      <td>-0.070535</td>\n",
       "      <td>-0.239983</td>\n",
       "      <td>0.914529</td>\n",
       "      <td>-0.809776</td>\n",
       "    </tr>\n",
       "    <tr>\n",
       "      <th>4</th>\n",
       "      <td>0.210655</td>\n",
       "      <td>-0.584969</td>\n",
       "      <td>-0.968051</td>\n",
       "      <td>0.587513</td>\n",
       "      <td>0.660823</td>\n",
       "      <td>-0.681005</td>\n",
       "      <td>0.681005</td>\n",
       "      <td>-1.04042</td>\n",
       "      <td>-0.425778</td>\n",
       "      <td>-0.634648</td>\n",
       "      <td>4.924429</td>\n",
       "      <td>0.409426</td>\n",
       "      <td>-0.409426</td>\n",
       "      <td>1.082609</td>\n",
       "      <td>-1.04042</td>\n",
       "      <td>-0.142134</td>\n",
       "      <td>0.728219</td>\n",
       "      <td>-0.728219</td>\n",
       "      <td>-0.272888</td>\n",
       "      <td>1.04042</td>\n",
       "      <td>-0.905439</td>\n",
       "      <td>0.809776</td>\n",
       "      <td>-0.504637</td>\n",
       "      <td>-0.384353</td>\n",
       "      <td>-0.239983</td>\n",
       "      <td>-0.1</td>\n",
       "      <td>-0.070535</td>\n",
       "      <td>-0.239983</td>\n",
       "      <td>-1.093459</td>\n",
       "      <td>1.234909</td>\n",
       "    </tr>\n",
       "    <tr>\n",
       "      <th>...</th>\n",
       "      <td>...</td>\n",
       "      <td>...</td>\n",
       "      <td>...</td>\n",
       "      <td>...</td>\n",
       "      <td>...</td>\n",
       "      <td>...</td>\n",
       "      <td>...</td>\n",
       "      <td>...</td>\n",
       "      <td>...</td>\n",
       "      <td>...</td>\n",
       "      <td>...</td>\n",
       "      <td>...</td>\n",
       "      <td>...</td>\n",
       "      <td>...</td>\n",
       "      <td>...</td>\n",
       "      <td>...</td>\n",
       "      <td>...</td>\n",
       "      <td>...</td>\n",
       "      <td>...</td>\n",
       "      <td>...</td>\n",
       "      <td>...</td>\n",
       "      <td>...</td>\n",
       "      <td>...</td>\n",
       "      <td>...</td>\n",
       "      <td>...</td>\n",
       "      <td>...</td>\n",
       "      <td>...</td>\n",
       "      <td>...</td>\n",
       "      <td>...</td>\n",
       "      <td>...</td>\n",
       "    </tr>\n",
       "    <tr>\n",
       "      <th>95</th>\n",
       "      <td>0.210655</td>\n",
       "      <td>-0.584969</td>\n",
       "      <td>-0.108708</td>\n",
       "      <td>0.895310</td>\n",
       "      <td>-0.889446</td>\n",
       "      <td>-0.681005</td>\n",
       "      <td>0.681005</td>\n",
       "      <td>-1.04042</td>\n",
       "      <td>2.348644</td>\n",
       "      <td>-0.634648</td>\n",
       "      <td>-0.203069</td>\n",
       "      <td>0.409426</td>\n",
       "      <td>-0.409426</td>\n",
       "      <td>-0.923694</td>\n",
       "      <td>0.96115</td>\n",
       "      <td>-0.142134</td>\n",
       "      <td>0.728219</td>\n",
       "      <td>-0.728219</td>\n",
       "      <td>3.664502</td>\n",
       "      <td>-0.96115</td>\n",
       "      <td>-0.905439</td>\n",
       "      <td>0.809776</td>\n",
       "      <td>-0.504637</td>\n",
       "      <td>-0.384353</td>\n",
       "      <td>-0.239983</td>\n",
       "      <td>-0.1</td>\n",
       "      <td>-0.070535</td>\n",
       "      <td>-0.239983</td>\n",
       "      <td>0.914529</td>\n",
       "      <td>-0.809776</td>\n",
       "    </tr>\n",
       "    <tr>\n",
       "      <th>96</th>\n",
       "      <td>-0.968375</td>\n",
       "      <td>-1.183266</td>\n",
       "      <td>0.330106</td>\n",
       "      <td>-0.731616</td>\n",
       "      <td>0.089672</td>\n",
       "      <td>-0.681005</td>\n",
       "      <td>0.681005</td>\n",
       "      <td>-1.04042</td>\n",
       "      <td>-0.425778</td>\n",
       "      <td>-0.634648</td>\n",
       "      <td>4.924429</td>\n",
       "      <td>0.409426</td>\n",
       "      <td>-0.409426</td>\n",
       "      <td>-0.923694</td>\n",
       "      <td>0.96115</td>\n",
       "      <td>-0.142134</td>\n",
       "      <td>0.728219</td>\n",
       "      <td>-0.728219</td>\n",
       "      <td>-0.272888</td>\n",
       "      <td>1.04042</td>\n",
       "      <td>-0.905439</td>\n",
       "      <td>0.809776</td>\n",
       "      <td>-0.504637</td>\n",
       "      <td>-0.384353</td>\n",
       "      <td>-0.239983</td>\n",
       "      <td>-0.1</td>\n",
       "      <td>-0.070535</td>\n",
       "      <td>-0.239983</td>\n",
       "      <td>-1.093459</td>\n",
       "      <td>1.234909</td>\n",
       "    </tr>\n",
       "    <tr>\n",
       "      <th>97</th>\n",
       "      <td>1.175316</td>\n",
       "      <td>0.491966</td>\n",
       "      <td>0.659216</td>\n",
       "      <td>1.115165</td>\n",
       "      <td>0.252858</td>\n",
       "      <td>-0.681005</td>\n",
       "      <td>0.681005</td>\n",
       "      <td>-1.04042</td>\n",
       "      <td>-0.425778</td>\n",
       "      <td>-0.634648</td>\n",
       "      <td>4.924429</td>\n",
       "      <td>-2.442441</td>\n",
       "      <td>2.442441</td>\n",
       "      <td>1.082609</td>\n",
       "      <td>-1.04042</td>\n",
       "      <td>-0.142134</td>\n",
       "      <td>0.728219</td>\n",
       "      <td>-0.728219</td>\n",
       "      <td>-0.272888</td>\n",
       "      <td>1.04042</td>\n",
       "      <td>-0.905439</td>\n",
       "      <td>-1.234909</td>\n",
       "      <td>1.981623</td>\n",
       "      <td>-0.384353</td>\n",
       "      <td>-0.239983</td>\n",
       "      <td>-0.1</td>\n",
       "      <td>-0.070535</td>\n",
       "      <td>-0.239983</td>\n",
       "      <td>0.914529</td>\n",
       "      <td>-0.809776</td>\n",
       "    </tr>\n",
       "    <tr>\n",
       "      <th>98</th>\n",
       "      <td>-0.968375</td>\n",
       "      <td>-0.884117</td>\n",
       "      <td>0.256970</td>\n",
       "      <td>1.598846</td>\n",
       "      <td>-0.889446</td>\n",
       "      <td>-0.681005</td>\n",
       "      <td>0.681005</td>\n",
       "      <td>0.96115</td>\n",
       "      <td>-0.425778</td>\n",
       "      <td>-0.634648</td>\n",
       "      <td>-0.203069</td>\n",
       "      <td>0.409426</td>\n",
       "      <td>-0.409426</td>\n",
       "      <td>1.082609</td>\n",
       "      <td>-1.04042</td>\n",
       "      <td>-0.142134</td>\n",
       "      <td>0.728219</td>\n",
       "      <td>-0.728219</td>\n",
       "      <td>-0.272888</td>\n",
       "      <td>-0.96115</td>\n",
       "      <td>1.104437</td>\n",
       "      <td>0.809776</td>\n",
       "      <td>-0.504637</td>\n",
       "      <td>-0.384353</td>\n",
       "      <td>-0.239983</td>\n",
       "      <td>-0.1</td>\n",
       "      <td>-0.070535</td>\n",
       "      <td>-0.239983</td>\n",
       "      <td>0.914529</td>\n",
       "      <td>-0.809776</td>\n",
       "    </tr>\n",
       "    <tr>\n",
       "      <th>99</th>\n",
       "      <td>1.068131</td>\n",
       "      <td>0.611626</td>\n",
       "      <td>1.628262</td>\n",
       "      <td>0.411629</td>\n",
       "      <td>-0.889446</td>\n",
       "      <td>-0.681005</td>\n",
       "      <td>0.681005</td>\n",
       "      <td>-1.04042</td>\n",
       "      <td>-0.425778</td>\n",
       "      <td>1.575677</td>\n",
       "      <td>-0.203069</td>\n",
       "      <td>0.409426</td>\n",
       "      <td>-0.409426</td>\n",
       "      <td>-0.923694</td>\n",
       "      <td>0.96115</td>\n",
       "      <td>-0.142134</td>\n",
       "      <td>0.728219</td>\n",
       "      <td>-0.728219</td>\n",
       "      <td>-0.272888</td>\n",
       "      <td>-0.96115</td>\n",
       "      <td>1.104437</td>\n",
       "      <td>0.809776</td>\n",
       "      <td>-0.504637</td>\n",
       "      <td>-0.384353</td>\n",
       "      <td>-0.239983</td>\n",
       "      <td>-0.1</td>\n",
       "      <td>-0.070535</td>\n",
       "      <td>-0.239983</td>\n",
       "      <td>0.914529</td>\n",
       "      <td>-0.809776</td>\n",
       "    </tr>\n",
       "  </tbody>\n",
       "</table>\n",
       "<p>100 rows × 30 columns</p>\n",
       "</div>"
      ],
      "text/plain": [
       "         age  trestbps      chol  ...    thal_1    thal_2    thal_3\n",
       "0   1.175316  1.509071  0.421525  ... -0.239983  0.914529 -0.809776\n",
       "1   0.210655  0.013328 -0.456102  ... -0.239983 -1.093459  1.234909\n",
       "2   0.853762  0.013328  0.311822  ... -0.239983 -1.093459  1.234909\n",
       "3   0.425024 -0.584969  1.719682  ... -0.239983  0.914529 -0.809776\n",
       "4   0.210655 -0.584969 -0.968051  ... -0.239983 -1.093459  1.234909\n",
       "..       ...       ...       ...  ...       ...       ...       ...\n",
       "95  0.210655 -0.584969 -0.108708  ... -0.239983  0.914529 -0.809776\n",
       "96 -0.968375 -1.183266  0.330106  ... -0.239983 -1.093459  1.234909\n",
       "97  1.175316  0.491966  0.659216  ... -0.239983  0.914529 -0.809776\n",
       "98 -0.968375 -0.884117  0.256970  ... -0.239983  0.914529 -0.809776\n",
       "99  1.068131  0.611626  1.628262  ... -0.239983  0.914529 -0.809776\n",
       "\n",
       "[100 rows x 30 columns]"
      ]
     },
     "execution_count": 68,
     "metadata": {
      "tags": []
     },
     "output_type": "execute_result"
    }
   ],
   "source": [
    "# Scaling Data\n",
    "from sklearn.preprocessing import StandardScaler\n",
    "scaler = StandardScaler()\n",
    "\n",
    "# Scaling for training data\n",
    "scaled_X_train = pd.DataFrame(scaler.fit_transform(X_train), columns = X_train.columns)\n",
    "scaled_X_train\n",
    "\n",
    "#Scaling for test data\n",
    "#Testing the data based on training data\n",
    "scaled_X_test = pd.DataFrame(scaler.transform(X_test), columns = X_test.columns)\n",
    "scaled_X_test"
   ]
  },
  {
   "cell_type": "markdown",
   "metadata": {
    "colab_type": "text",
    "id": "DZsJDJ32zZim"
   },
   "source": [
    "# **Machine Learning**"
   ]
  },
  {
   "cell_type": "markdown",
   "metadata": {
    "colab_type": "text",
    "id": "Zt5dNx5fmjkU"
   },
   "source": [
    "-> I'll now import train_test_split to split our dataset into training and testing datasets. Then, I'll import all Machine Learning models I'll be using to train and test the data."
   ]
  },
  {
   "cell_type": "code",
   "execution_count": null,
   "metadata": {
    "colab": {},
    "colab_type": "code",
    "id": "mtKJBEw3mZqL"
   },
   "outputs": [],
   "source": [
    "y = heart['target']\n",
    "X = heart.drop(['target'], axis = 1)\n",
    "X_train, X_test, y_train, y_test = train_test_split(X, y, test_size = 0.33, random_state = 0)"
   ]
  },
  {
   "cell_type": "markdown",
   "metadata": {
    "colab_type": "text",
    "id": "TRdej6f9nIM3"
   },
   "source": [
    "Next, I'll import all the Machine Learning algorithms I will be using."
   ]
  },
  {
   "cell_type": "markdown",
   "metadata": {
    "colab_type": "text",
    "id": "aTlmUEEygswl"
   },
   "source": [
    "1.logistic regression\n",
    "\n",
    "2.naive bayes classifier\n",
    "\n",
    "3.K Neighbors Classifier\n"
   ]
  },
  {
   "cell_type": "markdown",
   "metadata": {
    "colab_type": "text",
    "id": "l7JRwrHKoPc0"
   },
   "source": [
    "# **Logistic Regression**\n"
   ]
  },
  {
   "cell_type": "markdown",
   "metadata": {
    "colab_type": "text",
    "id": "7JXflMtiShwt"
   },
   "source": [
    "->**Import LogisticRegression from sklearn.linear_model and create an object. Fit the model on training data**\n"
   ]
  },
  {
   "cell_type": "code",
   "execution_count": null,
   "metadata": {
    "colab": {},
    "colab_type": "code",
    "id": "NnetYOKroyJv"
   },
   "outputs": [],
   "source": [
    "from sklearn.linear_model import LogisticRegression\n",
    "log_reg = LogisticRegression() # creating an object for Logistic Regression"
   ]
  },
  {
   "cell_type": "code",
   "execution_count": null,
   "metadata": {
    "colab": {
     "base_uri": "https://localhost:8080/",
     "height": 102
    },
    "colab_type": "code",
    "id": "jl5axTMbo3Sv",
    "outputId": "78526dde-e3d9-45b9-e1a5-b7d9119501da"
   },
   "outputs": [
    {
     "data": {
      "text/plain": [
       "LogisticRegression(C=1.0, class_weight=None, dual=False, fit_intercept=True,\n",
       "                   intercept_scaling=1, l1_ratio=None, max_iter=100,\n",
       "                   multi_class='auto', n_jobs=None, penalty='l2',\n",
       "                   random_state=None, solver='lbfgs', tol=0.0001, verbose=0,\n",
       "                   warm_start=False)"
      ]
     },
     "execution_count": 32,
     "metadata": {
      "tags": []
     },
     "output_type": "execute_result"
    }
   ],
   "source": [
    "## We have to apply this object(log_reg) to the training data\n",
    "log_reg.fit(X_train, y_train) # with help of fit method we are fitting the \n",
    "                            ##Logistic Regression on training data\n",
    "## objectName.fit(InputData, OutputData)"
   ]
  },
  {
   "cell_type": "markdown",
   "metadata": {
    "colab_type": "text",
    "id": "dCPDXENNTAJX"
   },
   "source": [
    "# **Predicting on Train data**\n"
   ]
  },
  {
   "cell_type": "code",
   "execution_count": null,
   "metadata": {
    "colab": {},
    "colab_type": "code",
    "id": "s4zzCjO8o9a5"
   },
   "outputs": [],
   "source": [
    "y_train_pred = log_reg.predict(X_train)"
   ]
  },
  {
   "cell_type": "code",
   "execution_count": null,
   "metadata": {
    "colab": {
     "base_uri": "https://localhost:8080/",
     "height": 221
    },
    "colab_type": "code",
    "id": "XEIyX7vZpBW7",
    "outputId": "4696056b-f2f4-41f3-8aa0-9dcdaf4178a9"
   },
   "outputs": [
    {
     "data": {
      "text/plain": [
       "426     True\n",
       "58     False\n",
       "363     True\n",
       "19      True\n",
       "299     True\n",
       "       ...  \n",
       "425     True\n",
       "271     True\n",
       "143     True\n",
       "50      True\n",
       "232     True\n",
       "Name: target, Length: 202, dtype: bool"
      ]
     },
     "execution_count": 34,
     "metadata": {
      "tags": []
     },
     "output_type": "execute_result"
    }
   ],
   "source": [
    "y_train ==y_train_pred"
   ]
  },
  {
   "cell_type": "markdown",
   "metadata": {
    "colab_type": "text",
    "id": "N1c39sRxUPUY"
   },
   "source": [
    "-> Visualizing the confusion matrix using heat map\n"
   ]
  },
  {
   "cell_type": "code",
   "execution_count": null,
   "metadata": {
    "colab": {
     "base_uri": "https://localhost:8080/",
     "height": 391
    },
    "colab_type": "code",
    "id": "2CT0cqUcUBEL",
    "outputId": "bf29d435-cab1-4544-fff7-6448744eb9ce"
   },
   "outputs": [
    {
     "data": {
      "text/plain": [
       "<matplotlib.axes._subplots.AxesSubplot at 0x7f78c48191d0>"
      ]
     },
     "execution_count": 35,
     "metadata": {
      "tags": []
     },
     "output_type": "execute_result"
    },
    {
     "data": {
      "image/png": "[encoded data removed]",
      "text/plain": [
       "<Figure size 576x432 with 2 Axes>"
      ]
     },
     "metadata": {
      "needs_background": "light",
      "tags": []
     },
     "output_type": "display_data"
    }
   ],
   "source": [
    "from sklearn.metrics import confusion_matrix, accuracy_score\n",
    "conf = confusion_matrix(y_train, y_train_pred)\n",
    "conf\n",
    "sns.heatmap(confusion_matrix(y_train, y_train_pred), annot=True, fmt='3.0f', annot_kws={'size':'10', \"ha\": 'right',\"va\": 'baseline'})"
   ]
  },
  {
   "cell_type": "markdown",
   "metadata": {
    "colab_type": "text",
    "id": "zfbTGfAIUYv2"
   },
   "source": [
    "-> Finding the accuracy score:\n"
   ]
  },
  {
   "cell_type": "code",
   "execution_count": null,
   "metadata": {
    "colab": {
     "base_uri": "https://localhost:8080/",
     "height": 34
    },
    "colab_type": "code",
    "id": "CLS08KO3pGJw",
    "outputId": "32ea6448-f3ba-472b-b7d2-ec49dcf7be0c"
   },
   "outputs": [
    {
     "data": {
      "text/plain": [
       "0.9108910891089109"
      ]
     },
     "execution_count": 36,
     "metadata": {
      "tags": []
     },
     "output_type": "execute_result"
    }
   ],
   "source": [
    "from sklearn.metrics import accuracy_score\n",
    "accuracy_score(y_train, y_train_pred)"
   ]
  },
  {
   "cell_type": "markdown",
   "metadata": {
    "colab_type": "text",
    "id": "hxEySbR5UhFB"
   },
   "source": [
    "-> Print the classification report and check the accuracy of the training data"
   ]
  },
  {
   "cell_type": "code",
   "execution_count": null,
   "metadata": {
    "colab": {
     "base_uri": "https://localhost:8080/",
     "height": 170
    },
    "colab_type": "code",
    "id": "ROMT84WAtzGy",
    "outputId": "c29a73f9-b275-4e77-fefa-21fa7d2a9622"
   },
   "outputs": [
    {
     "name": "stdout",
     "output_type": "stream",
     "text": [
      "              precision    recall  f1-score   support\n",
      "\n",
      "           0       0.92      0.88      0.90        92\n",
      "           1       0.90      0.94      0.92       110\n",
      "\n",
      "    accuracy                           0.91       202\n",
      "   macro avg       0.91      0.91      0.91       202\n",
      "weighted avg       0.91      0.91      0.91       202\n",
      "\n"
     ]
    }
   ],
   "source": [
    "from sklearn.metrics import classification_report,confusion_matrix\n",
    "print(classification_report(y_train, y_train_pred))\n"
   ]
  },
  {
   "cell_type": "markdown",
   "metadata": {
    "colab_type": "text",
    "id": "W0ctArTzUofo"
   },
   "source": [
    "-> **We got an accuracy score of around 91% for the training** **Now let’s check the same for test data. **"
   ]
  },
  {
   "cell_type": "markdown",
   "metadata": {
    "colab_type": "text",
    "id": "ElhhqarHg6S6"
   },
   "source": [
    "# **Predicting on Test data**"
   ]
  },
  {
   "cell_type": "code",
   "execution_count": null,
   "metadata": {
    "colab": {},
    "colab_type": "code",
    "id": "DoBcYwaPpHx4"
   },
   "outputs": [],
   "source": [
    "y_test_pred = log_reg.predict(X_test)"
   ]
  },
  {
   "cell_type": "code",
   "execution_count": null,
   "metadata": {
    "colab": {
     "base_uri": "https://localhost:8080/",
     "height": 221
    },
    "colab_type": "code",
    "id": "zPVUHi-EpUt5",
    "outputId": "5a54d236-310f-481d-f305-c78c69b8a35a"
   },
   "outputs": [
    {
     "data": {
      "text/plain": [
       "342     True\n",
       "191     True\n",
       "349    False\n",
       "288     True\n",
       "56      True\n",
       "       ...  \n",
       "172     True\n",
       "391    False\n",
       "629    False\n",
       "197     True\n",
       "720    False\n",
       "Name: target, Length: 100, dtype: bool"
      ]
     },
     "execution_count": 39,
     "metadata": {
      "tags": []
     },
     "output_type": "execute_result"
    }
   ],
   "source": [
    "y_test==y_test_pred"
   ]
  },
  {
   "cell_type": "markdown",
   "metadata": {
    "colab_type": "text",
    "id": "jVT-_uHiVKNx"
   },
   "source": [
    "-> **Visualizing the confusion matrix using heat map**"
   ]
  },
  {
   "cell_type": "code",
   "execution_count": null,
   "metadata": {
    "colab": {
     "base_uri": "https://localhost:8080/",
     "height": 391
    },
    "colab_type": "code",
    "id": "IsXzNrGCVzCC",
    "outputId": "1d4b3351-be30-4fd5-be3f-decaeda1c61a"
   },
   "outputs": [
    {
     "data": {
      "text/plain": [
       "<matplotlib.axes._subplots.AxesSubplot at 0x7f78c6234f60>"
      ]
     },
     "execution_count": 60,
     "metadata": {
      "tags": []
     },
     "output_type": "execute_result"
    },
    {
     "data": {
      "image/png": "[encoded data removed]",
      "text/plain": [
       "<Figure size 576x432 with 2 Axes>"
      ]
     },
     "metadata": {
      "needs_background": "light",
      "tags": []
     },
     "output_type": "display_data"
    }
   ],
   "source": [
    "from sklearn.metrics import confusion_matrix, accuracy_score\n",
    "conf = confusion_matrix(y_test, y_test_pred)\n",
    "conf\n",
    "sns.heatmap(confusion_matrix(y_test, y_test_pred), annot=True, fmt='3.0f', annot_kws={'size':'10', \"ha\": 'right',\"va\": 'baseline'})"
   ]
  },
  {
   "cell_type": "markdown",
   "metadata": {
    "colab_type": "text",
    "id": "aLPvUG3RV6YX"
   },
   "source": [
    "-> Finding the accuracy score:"
   ]
  },
  {
   "cell_type": "code",
   "execution_count": null,
   "metadata": {
    "colab": {
     "base_uri": "https://localhost:8080/",
     "height": 34
    },
    "colab_type": "code",
    "id": "Nm9t-eaKpV2S",
    "outputId": "ee0f7d8f-b0b3-4073-a481-2484493d365a"
   },
   "outputs": [
    {
     "data": {
      "text/plain": [
       "0.81"
      ]
     },
     "execution_count": 61,
     "metadata": {
      "tags": []
     },
     "output_type": "execute_result"
    }
   ],
   "source": [
    "accuracy_score(y_test, y_test_pred)"
   ]
  },
  {
   "cell_type": "markdown",
   "metadata": {
    "colab_type": "text",
    "id": "4enT7i9UWPpg"
   },
   "source": [
    "-> Print the classification report and check the accuracy of the testing data\n",
    "\n"
   ]
  },
  {
   "cell_type": "code",
   "execution_count": 116,
   "metadata": {
    "colab": {
     "base_uri": "https://localhost:8080/",
     "height": 170
    },
    "colab_type": "code",
    "id": "yI0IdEoJwoW5",
    "outputId": "e2116798-b61d-43f6-859e-00bbdd07f89e"
   },
   "outputs": [
    {
     "name": "stdout",
     "output_type": "stream",
     "text": [
      "              precision    recall  f1-score   support\n",
      "\n",
      "           0       0.79      0.80      0.80        46\n",
      "           1       0.83      0.81      0.82        54\n",
      "\n",
      "    accuracy                           0.81       100\n",
      "   macro avg       0.81      0.81      0.81       100\n",
      "weighted avg       0.81      0.81      0.81       100\n",
      "\n"
     ]
    }
   ],
   "source": [
    "from sklearn.metrics import classification_report,confusion_matrix\n",
    "print(classification_report(y_test, y_test_pred))"
   ]
  },
  {
   "cell_type": "markdown",
   "metadata": {
    "colab_type": "text",
    "id": "x0QyvPgUWSma"
   },
   "source": [
    "**We got an accuracy score of around 81% for the testing**"
   ]
  },
  {
   "cell_type": "markdown",
   "metadata": {
    "colab_type": "text",
    "id": "er6GyV8rhCiK"
   },
   "source": [
    "# **Naive Bayes Classifier**\n"
   ]
  },
  {
   "cell_type": "code",
   "execution_count": null,
   "metadata": {
    "colab": {},
    "colab_type": "code",
    "id": "HOeARNMJW1YM"
   },
   "outputs": [],
   "source": [
    "# Apply the naive Bayes Algorithm\n",
    "# Import BernNB\n",
    "from sklearn.naive_bayes import BernoulliNB\n",
    "# creating an object for BerNB\n",
    "model_BernNB = BernoulliNB()"
   ]
  },
  {
   "cell_type": "code",
   "execution_count": null,
   "metadata": {
    "colab": {
     "base_uri": "https://localhost:8080/",
     "height": 34
    },
    "colab_type": "code",
    "id": "hrDN5x14W44M",
    "outputId": "9e1cc256-ab12-4559-cf15-d245d2178db9"
   },
   "outputs": [
    {
     "data": {
      "text/plain": [
       "BernoulliNB(alpha=1.0, binarize=0.0, class_prior=None, fit_prior=True)"
      ]
     },
     "execution_count": 44,
     "metadata": {
      "tags": []
     },
     "output_type": "execute_result"
    }
   ],
   "source": [
    "# Applying the algorithm to the data\n",
    "# objectName.fit(Input,Output)\n",
    "model_BernNB.fit(X_train, y_train)"
   ]
  },
  {
   "cell_type": "markdown",
   "metadata": {
    "colab_type": "text",
    "id": "yeGfaWp5dZdp"
   },
   "source": [
    "# **Predicting on Train data**"
   ]
  },
  {
   "cell_type": "code",
   "execution_count": null,
   "metadata": {
    "colab": {},
    "colab_type": "code",
    "id": "jNmw0PmyW7Ak"
   },
   "outputs": [],
   "source": [
    "y_train_pred = model_BernNB.predict(X_train)"
   ]
  },
  {
   "cell_type": "code",
   "execution_count": null,
   "metadata": {
    "colab": {
     "base_uri": "https://localhost:8080/",
     "height": 51
    },
    "colab_type": "code",
    "id": "rL3gSXekW-rq",
    "outputId": "21f792e7-15f5-437f-fa6b-1ffd51c373dd"
   },
   "outputs": [
    {
     "data": {
      "text/plain": [
       "array([[80, 12],\n",
       "       [12, 98]])"
      ]
     },
     "execution_count": 46,
     "metadata": {
      "tags": []
     },
     "output_type": "execute_result"
    }
   ],
   "source": [
    "# compare the actual values(y_test) with predicted values(y_test_pred)\n",
    "from sklearn.metrics import confusion_matrix,classification_report\n",
    "confusion_matrix(y_train,y_train_pred)"
   ]
  },
  {
   "cell_type": "markdown",
   "metadata": {
    "colab_type": "text",
    "id": "_yMRPRjpdQMU"
   },
   "source": [
    "-> **Print the classification report and check the accuracy of the testing data**"
   ]
  },
  {
   "cell_type": "code",
   "execution_count": null,
   "metadata": {
    "colab": {
     "base_uri": "https://localhost:8080/",
     "height": 170
    },
    "colab_type": "code",
    "id": "M5A7Xaq3XFdI",
    "outputId": "c0de4411-5700-456b-e90d-b67f811d0199"
   },
   "outputs": [
    {
     "name": "stdout",
     "output_type": "stream",
     "text": [
      "              precision    recall  f1-score   support\n",
      "\n",
      "           0       0.87      0.87      0.87        92\n",
      "           1       0.89      0.89      0.89       110\n",
      "\n",
      "    accuracy                           0.88       202\n",
      "   macro avg       0.88      0.88      0.88       202\n",
      "weighted avg       0.88      0.88      0.88       202\n",
      "\n"
     ]
    }
   ],
   "source": [
    "print(classification_report(y_train,y_train_pred))"
   ]
  },
  {
   "cell_type": "markdown",
   "metadata": {
    "colab_type": "text",
    "id": "5PP_9D5oc0Lh"
   },
   "source": [
    "-> **Finding the accuracy score:**"
   ]
  },
  {
   "cell_type": "code",
   "execution_count": null,
   "metadata": {
    "colab": {
     "base_uri": "https://localhost:8080/",
     "height": 34
    },
    "colab_type": "code",
    "id": "4Tv5STZBXJn9",
    "outputId": "92f20771-75f4-4832-d28e-ebe8c2eb5d4f"
   },
   "outputs": [
    {
     "data": {
      "text/plain": [
       "0.8811881188118812"
      ]
     },
     "execution_count": 48,
     "metadata": {
      "tags": []
     },
     "output_type": "execute_result"
    }
   ],
   "source": [
    "from sklearn.metrics import accuracy_score\n",
    "accuracy_score(y_train,y_train_pred)"
   ]
  },
  {
   "cell_type": "markdown",
   "metadata": {
    "colab_type": "text",
    "id": "ADDD8QsTdBfL"
   },
   "source": [
    "# **Predicting on Test data**"
   ]
  },
  {
   "cell_type": "code",
   "execution_count": null,
   "metadata": {
    "colab": {
     "base_uri": "https://localhost:8080/",
     "height": 34
    },
    "colab_type": "code",
    "id": "SBMQkE9qXNiF",
    "outputId": "cfc33b8b-f2b6-4d40-ff1c-e40c1997ead0"
   },
   "outputs": [
    {
     "data": {
      "text/plain": [
       "BernoulliNB(alpha=1.0, binarize=0.0, class_prior=None, fit_prior=True)"
      ]
     },
     "execution_count": 49,
     "metadata": {
      "tags": []
     },
     "output_type": "execute_result"
    }
   ],
   "source": [
    "# Applying the algorithm to the data\n",
    "# objectName.fit(Input,Output)\n",
    "model_BernNB.fit(X_test, y_test)"
   ]
  },
  {
   "cell_type": "code",
   "execution_count": null,
   "metadata": {
    "colab": {},
    "colab_type": "code",
    "id": "waRdcm-5XQXz"
   },
   "outputs": [],
   "source": [
    "y_test_pred = model_BernNB.predict(X_test)"
   ]
  },
  {
   "cell_type": "code",
   "execution_count": null,
   "metadata": {
    "colab": {
     "base_uri": "https://localhost:8080/",
     "height": 51
    },
    "colab_type": "code",
    "id": "yTyFpAXnXTJt",
    "outputId": "afeae57f-5185-43e0-a5f3-f106c3681cb2"
   },
   "outputs": [
    {
     "data": {
      "text/plain": [
       "array([[37,  9],\n",
       "       [10, 44]])"
      ]
     },
     "execution_count": 51,
     "metadata": {
      "tags": []
     },
     "output_type": "execute_result"
    }
   ],
   "source": [
    "# compare the actual values(y_test) with predicted values(y_test_pred)\n",
    "from sklearn.metrics import confusion_matrix,classification_report\n",
    "confusion_matrix(y_test,y_test_pred)"
   ]
  },
  {
   "cell_type": "markdown",
   "metadata": {
    "colab_type": "text",
    "id": "Uhd2Vp7BdLxO"
   },
   "source": [
    "-> **Print the classification report and check the accuracy of the testing data**"
   ]
  },
  {
   "cell_type": "code",
   "execution_count": null,
   "metadata": {
    "colab": {
     "base_uri": "https://localhost:8080/",
     "height": 170
    },
    "colab_type": "code",
    "id": "l0k9lw9LXWMn",
    "outputId": "b1a2d110-a594-4dab-8e91-cf7bafc449b5"
   },
   "outputs": [
    {
     "name": "stdout",
     "output_type": "stream",
     "text": [
      "              precision    recall  f1-score   support\n",
      "\n",
      "           0       0.79      0.80      0.80        46\n",
      "           1       0.83      0.81      0.82        54\n",
      "\n",
      "    accuracy                           0.81       100\n",
      "   macro avg       0.81      0.81      0.81       100\n",
      "weighted avg       0.81      0.81      0.81       100\n",
      "\n"
     ]
    }
   ],
   "source": [
    "print(classification_report(y_test,y_test_pred))"
   ]
  },
  {
   "cell_type": "markdown",
   "metadata": {
    "colab_type": "text",
    "id": "otOdz2j4c4pA"
   },
   "source": [
    "-> **Finding the accuracy score:**"
   ]
  },
  {
   "cell_type": "code",
   "execution_count": null,
   "metadata": {
    "colab": {
     "base_uri": "https://localhost:8080/",
     "height": 34
    },
    "colab_type": "code",
    "id": "Tfab6kYfXZyr",
    "outputId": "28266d80-6e3c-40fe-9148-a4bed8d7fd7b"
   },
   "outputs": [
    {
     "data": {
      "text/plain": [
       "0.81"
      ]
     },
     "execution_count": 53,
     "metadata": {
      "tags": []
     },
     "output_type": "execute_result"
    }
   ],
   "source": [
    "from sklearn.metrics import accuracy_score\n",
    "accuracy_score(y_test,y_test_pred)"
   ]
  },
  {
   "cell_type": "markdown",
   "metadata": {
    "colab_type": "text",
    "id": "3p98eJmaCZgN"
   },
   "source": [
    "# **K Neighbors Classifier**"
   ]
  },
  {
   "cell_type": "markdown",
   "metadata": {
    "colab_type": "text",
    "id": "docGZaawClDT"
   },
   "source": [
    "The classification score varies based on different values of neighbors that we choose. Thus, I'll plot a score graph for different values of K (neighbors) and check when do I achieve the best score."
   ]
  },
  {
   "cell_type": "code",
   "execution_count": null,
   "metadata": {
    "colab": {
     "base_uri": "https://localhost:8080/",
     "height": 68
    },
    "colab_type": "code",
    "id": "n2uqzaz7VxFn",
    "outputId": "e79e245a-aace-40f2-c419-8b76de896f36"
   },
   "outputs": [
    {
     "data": {
      "text/plain": [
       "KNeighborsClassifier(algorithm='auto', leaf_size=30, metric='euclidean',\n",
       "                     metric_params=None, n_jobs=None, n_neighbors=40, p=2,\n",
       "                     weights='uniform')"
      ]
     },
     "execution_count": 87,
     "metadata": {
      "tags": []
     },
     "output_type": "execute_result"
    }
   ],
   "source": [
    "# Model Building:\n",
    "from sklearn.neighbors import KNeighborsClassifier\n",
    "knn = KNeighborsClassifier(n_neighbors=40, metric='euclidean')\n",
    "\n",
    "# Apply the knn object on the dataset(Training Phase)\n",
    "# Syntax: objectName.fit(Input, Output)\n",
    "knn.fit(scaled_X_train, y_train)"
   ]
  },
  {
   "cell_type": "code",
   "execution_count": null,
   "metadata": {
    "colab": {
     "base_uri": "https://localhost:8080/",
     "height": 187
    },
    "colab_type": "code",
    "id": "PB0eMAs3WaaA",
    "outputId": "80a1ed07-f649-4f3f-b14a-eaae94954bb3"
   },
   "outputs": [
    {
     "data": {
      "text/plain": [
       "array([1, 1, 1, 1, 1, 1, 0, 1, 0, 0, 1, 0, 1, 0, 0, 1, 1, 1, 1, 1, 1, 1,\n",
       "       0, 0, 1, 0, 0, 0, 0, 1, 1, 1, 1, 1, 1, 0, 0, 0, 1, 0, 1, 1, 1, 0,\n",
       "       0, 1, 1, 0, 1, 0, 0, 0, 1, 1, 1, 1, 0, 0, 1, 1, 0, 0, 1, 1, 0, 1,\n",
       "       1, 0, 1, 1, 0, 0, 0, 0, 0, 1, 1, 1, 1, 1, 0, 1, 1, 1, 0, 0, 1, 0,\n",
       "       0, 1, 1, 0, 1, 0, 1, 0, 0, 1, 1, 0, 1, 0, 0, 1, 1, 1, 1, 1, 0, 0,\n",
       "       0, 0, 0, 1, 1, 1, 0, 0, 1, 0, 0, 1, 1, 1, 1, 0, 0, 1, 0, 1, 1, 1,\n",
       "       1, 0, 0, 1, 0, 1, 0, 0, 0, 1, 1, 0, 1, 0, 0, 0, 1, 1, 1, 1, 0, 0,\n",
       "       1, 1, 0, 1, 1, 0, 1, 0, 1, 1, 1, 0, 0, 0, 1, 1, 0, 1, 1, 1, 1, 1,\n",
       "       1, 1, 0, 1, 0, 1, 1, 0, 0, 1, 1, 1, 1, 1, 1, 1, 1, 0, 1, 0, 1, 0,\n",
       "       1, 1, 1, 0])"
      ]
     },
     "execution_count": 88,
     "metadata": {
      "tags": []
     },
     "output_type": "execute_result"
    }
   ],
   "source": [
    "# Predictions on the data\n",
    "#predict function--> gives the predicted values\n",
    "# Syntax:objectname.predict(Input)\n",
    "y_train_pred = knn.predict(scaled_X_train)\n",
    "y_train_pred"
   ]
  },
  {
   "cell_type": "code",
   "execution_count": 112,
   "metadata": {
    "colab": {
     "base_uri": "https://localhost:8080/",
     "height": 170
    },
    "colab_type": "code",
    "id": "VviQ_YjvWfQV",
    "outputId": "d74f2a1a-7adf-4fbf-c65c-b83a2224a02e"
   },
   "outputs": [
    {
     "name": "stdout",
     "output_type": "stream",
     "text": [
      "              precision    recall  f1-score   support\n",
      "\n",
      "           0       0.89      0.82      0.85        92\n",
      "           1       0.86      0.92      0.89       110\n",
      "\n",
      "    accuracy                           0.87       202\n",
      "   macro avg       0.87      0.87      0.87       202\n",
      "weighted avg       0.87      0.87      0.87       202\n",
      "\n"
     ]
    }
   ],
   "source": [
    "# Check the accuracy, classification report\n",
    "from sklearn.metrics import classification_report\n",
    "print(classification_report(y_train, y_train_pred))"
   ]
  },
  {
   "cell_type": "code",
   "execution_count": null,
   "metadata": {
    "colab": {
     "base_uri": "https://localhost:8080/",
     "height": 340
    },
    "colab_type": "code",
    "id": "nZaYv4G6WpWm",
    "outputId": "cee3f2a2-0aa8-407b-89c1-561a37d7251f"
   },
   "outputs": [
    {
     "data": {
      "text/plain": [
       "[0.73,\n",
       " 0.73,\n",
       " 0.79,\n",
       " 0.79,\n",
       " 0.76,\n",
       " 0.77,\n",
       " 0.75,\n",
       " 0.78,\n",
       " 0.77,\n",
       " 0.8,\n",
       " 0.79,\n",
       " 0.8,\n",
       " 0.8,\n",
       " 0.8,\n",
       " 0.77,\n",
       " 0.78,\n",
       " 0.77,\n",
       " 0.79,\n",
       " 0.78]"
      ]
     },
     "execution_count": 90,
     "metadata": {
      "tags": []
     },
     "output_type": "execute_result"
    }
   ],
   "source": [
    "from sklearn.metrics import accuracy_score\n",
    "# Checking for optimum k-value\n",
    "# Build the models with multiple k values\n",
    "scores=[]\n",
    "for k in range(1, 20):\n",
    "    knn_model = KNeighborsClassifier(n_neighbors=k)\n",
    "    knn_model.fit(scaled_X_train, y_train)\n",
    "    pred_test = knn_model.predict(scaled_X_test)\n",
    "    scores.append(accuracy_score(y_test, pred_test))\n",
    "scores\n",
    "    "
   ]
  },
  {
   "cell_type": "code",
   "execution_count": null,
   "metadata": {
    "colab": {
     "base_uri": "https://localhost:8080/",
     "height": 391
    },
    "colab_type": "code",
    "id": "Hisf9in7WytG",
    "outputId": "22cf9578-78c0-4210-a654-16858f691c7c"
   },
   "outputs": [
    {
     "data": {
      "text/plain": [
       "[<matplotlib.lines.Line2D at 0x7f78c6966f60>]"
      ]
     },
     "execution_count": 91,
     "metadata": {
      "tags": []
     },
     "output_type": "execute_result"
    },
    {
     "data": {
      "image/png": "[encoded data removed]",
      "text/plain": [
       "<Figure size 576x432 with 1 Axes>"
      ]
     },
     "metadata": {
      "needs_background": "light",
      "tags": []
     },
     "output_type": "display_data"
    }
   ],
   "source": [
    "# Plot of K values and Scores\n",
    "plt.plot(range(1,20), scores, marker='o', markerfacecolor='r', linestyle='--')"
   ]
  },
  {
   "cell_type": "code",
   "execution_count": null,
   "metadata": {
    "colab": {
     "base_uri": "https://localhost:8080/",
     "height": 68
    },
    "colab_type": "code",
    "id": "0a1O0hhTXFjQ",
    "outputId": "83b45b1f-4da0-4477-edcc-3ad803e153ad"
   },
   "outputs": [
    {
     "data": {
      "text/plain": [
       "KNeighborsClassifier(algorithm='auto', leaf_size=30, metric='euclidean',\n",
       "                     metric_params=None, n_jobs=None, n_neighbors=7, p=2,\n",
       "                     weights='uniform')"
      ]
     },
     "execution_count": 92,
     "metadata": {
      "tags": []
     },
     "output_type": "execute_result"
    }
   ],
   "source": [
    "# Optimum k value is 7\n",
    "final_model = KNeighborsClassifier(n_neighbors=7, metric='euclidean')\n",
    "final_model.fit(scaled_X_train, y_train)"
   ]
  },
  {
   "cell_type": "code",
   "execution_count": 111,
   "metadata": {
    "colab": {
     "base_uri": "https://localhost:8080/",
     "height": 187
    },
    "colab_type": "code",
    "id": "J_Wc9c5yXHL2",
    "outputId": "09d71057-d89a-43b7-9fd3-95b59bddd299"
   },
   "outputs": [
    {
     "data": {
      "text/plain": [
       "array([1, 0, 1, 1, 1, 1, 0, 1, 0, 0, 1, 0, 1, 0, 0, 0, 1, 1, 1, 1, 1, 1,\n",
       "       1, 0, 1, 0, 0, 0, 0, 1, 1, 1, 1, 0, 0, 1, 0, 0, 1, 0, 1, 1, 1, 0,\n",
       "       0, 1, 1, 0, 1, 0, 0, 0, 1, 1, 1, 1, 0, 0, 0, 1, 0, 0, 1, 1, 0, 1,\n",
       "       1, 0, 1, 1, 0, 0, 0, 0, 0, 1, 1, 1, 1, 1, 0, 1, 1, 1, 0, 0, 1, 0,\n",
       "       0, 0, 1, 0, 1, 0, 1, 0, 0, 1, 1, 0, 1, 0, 0, 1, 1, 1, 1, 1, 0, 0,\n",
       "       0, 0, 0, 1, 1, 1, 0, 0, 1, 0, 0, 1, 1, 1, 1, 0, 0, 1, 0, 1, 1, 1,\n",
       "       1, 0, 0, 0, 0, 1, 0, 0, 0, 1, 1, 0, 1, 0, 0, 0, 1, 1, 1, 1, 0, 0,\n",
       "       1, 1, 1, 1, 1, 0, 1, 0, 1, 1, 1, 0, 0, 0, 1, 1, 0, 1, 1, 1, 1, 1,\n",
       "       1, 1, 0, 1, 0, 1, 1, 0, 0, 1, 1, 0, 1, 1, 1, 1, 1, 0, 1, 0, 1, 0,\n",
       "       1, 1, 1, 0])"
      ]
     },
     "execution_count": 111,
     "metadata": {
      "tags": []
     },
     "output_type": "execute_result"
    }
   ],
   "source": [
    "# Prediction on  training data\n",
    "final_train_pred = final_model.predict(scaled_X_train)\n",
    "final_train_pred"
   ]
  },
  {
   "cell_type": "code",
   "execution_count": 110,
   "metadata": {
    "colab": {
     "base_uri": "https://localhost:8080/",
     "height": 391
    },
    "colab_type": "code",
    "id": "0ff79X1VXMyF",
    "outputId": "bd5cae0d-dd5f-459e-933b-2fc0d55fbc4e"
   },
   "outputs": [
    {
     "data": {
      "text/plain": [
       "<matplotlib.axes._subplots.AxesSubplot at 0x7f78bfacd668>"
      ]
     },
     "execution_count": 110,
     "metadata": {
      "tags": []
     },
     "output_type": "execute_result"
    },
    {
     "data": {
      "image/png": "[encoded data removed]",
      "text/plain": [
       "<Figure size 576x432 with 2 Axes>"
      ]
     },
     "metadata": {
      "needs_background": "light",
      "tags": []
     },
     "output_type": "display_data"
    }
   ],
   "source": [
    " #Confusion Matrix of Training data\n",
    "#Syntax: confusion_matrix(ActualValues, Predicted Values)\n",
    "from sklearn.metrics import confusion_matrix\n",
    "sns.heatmap(confusion_matrix(y_train, final_train_pred), annot=True, \n",
    "            fmt='d', annot_kws={'va':'top','ha':'right'}) # d--> integer formatting"
   ]
  },
  {
   "cell_type": "code",
   "execution_count": 113,
   "metadata": {
    "colab": {
     "base_uri": "https://localhost:8080/",
     "height": 34
    },
    "colab_type": "code",
    "id": "d3Hmi4Nrj3gS",
    "outputId": "2faf3d24-4e00-4e04-f76f-bdfc2c7dd4c7"
   },
   "outputs": [
    {
     "data": {
      "text/plain": [
       "0.8712871287128713"
      ]
     },
     "execution_count": 113,
     "metadata": {
      "tags": []
     },
     "output_type": "execute_result"
    }
   ],
   "source": [
    "from sklearn.metrics import accuracy_score\n",
    "accuracy_score(y_train,y_train_pred)"
   ]
  },
  {
   "cell_type": "code",
   "execution_count": 114,
   "metadata": {
    "colab": {
     "base_uri": "https://localhost:8080/",
     "height": 170
    },
    "colab_type": "code",
    "id": "nKBs0K0MXRYl",
    "outputId": "cf763564-c2f5-416f-bff9-c823e09d8f8c"
   },
   "outputs": [
    {
     "name": "stdout",
     "output_type": "stream",
     "text": [
      "              precision    recall  f1-score   support\n",
      "\n",
      "           0       0.91      0.88      0.90        92\n",
      "           1       0.90      0.93      0.91       110\n",
      "\n",
      "    accuracy                           0.91       202\n",
      "   macro avg       0.91      0.90      0.90       202\n",
      "weighted avg       0.91      0.91      0.91       202\n",
      "\n"
     ]
    }
   ],
   "source": [
    "# Classification report for training Data\n",
    "# Precision--> PPV--> Out of the positive predicted values, how many truely positive\n",
    "print(classification_report(y_train, final_train_pred))"
   ]
  },
  {
   "cell_type": "code",
   "execution_count": 104,
   "metadata": {
    "colab": {
     "base_uri": "https://localhost:8080/",
     "height": 102
    },
    "colab_type": "code",
    "id": "FWjYXVSpXZJi",
    "outputId": "cf58c1eb-0fae-42fd-d341-8063b8efb0a4"
   },
   "outputs": [
    {
     "data": {
      "text/plain": [
       "array([1, 1, 1, 1, 1, 0, 1, 0, 0, 0, 0, 1, 0, 1, 1, 0, 0, 1, 1, 0, 1, 1,\n",
       "       1, 1, 0, 0, 1, 1, 0, 1, 0, 0, 0, 1, 1, 1, 1, 1, 1, 1, 1, 1, 0, 1,\n",
       "       0, 1, 1, 1, 1, 0, 1, 1, 1, 0, 1, 0, 0, 0, 1, 1, 1, 1, 1, 0, 0, 1,\n",
       "       1, 1, 0, 0, 1, 0, 1, 1, 0, 0, 1, 1, 0, 0, 1, 0, 1, 0, 1, 0, 1, 1,\n",
       "       1, 0, 1, 1, 1, 0, 0, 1, 1, 1, 1, 1])"
      ]
     },
     "execution_count": 104,
     "metadata": {
      "tags": []
     },
     "output_type": "execute_result"
    }
   ],
   "source": [
    "# Predictions on Test Data\n",
    "final_test_pred = final_model.predict(scaled_X_test)  # y_test\n",
    "final_test_pred"
   ]
  },
  {
   "cell_type": "code",
   "execution_count": 105,
   "metadata": {
    "colab": {
     "base_uri": "https://localhost:8080/",
     "height": 391
    },
    "colab_type": "code",
    "id": "ARaKyULhXalW",
    "outputId": "54f5ef6e-6ae1-4e4c-e049-04843b14ca3e"
   },
   "outputs": [
    {
     "data": {
      "text/plain": [
       "<matplotlib.axes._subplots.AxesSubplot at 0x7f78bfbabba8>"
      ]
     },
     "execution_count": 105,
     "metadata": {
      "tags": []
     },
     "output_type": "execute_result"
    },
    {
     "data": {
      "image/png": "[encoded data removed]",
      "text/plain": [
       "<Figure size 576x432 with 2 Axes>"
      ]
     },
     "metadata": {
      "needs_background": "light",
      "tags": []
     },
     "output_type": "display_data"
    }
   ],
   "source": [
    "# Compare actual values of test data(y_test) and final_test_pred(model predicted values)\n",
    "# Confusion_matrix(actualValues, predictedValues)\n",
    "sns.heatmap(confusion_matrix(y_test, final_test_pred), annot=True, fmt='d')"
   ]
  },
  {
   "cell_type": "code",
   "execution_count": 115,
   "metadata": {
    "colab": {
     "base_uri": "https://localhost:8080/",
     "height": 34
    },
    "colab_type": "code",
    "id": "eRXND7fwnHiD",
    "outputId": "82aa21f7-a35a-4e23-b3c4-7c9ee84e2292"
   },
   "outputs": [
    {
     "data": {
      "text/plain": [
       "0.81"
      ]
     },
     "execution_count": 115,
     "metadata": {
      "tags": []
     },
     "output_type": "execute_result"
    }
   ],
   "source": [
    "from sklearn.metrics import accuracy_score\n",
    "accuracy_score(y_test,y_test_pred)"
   ]
  },
  {
   "cell_type": "code",
   "execution_count": 106,
   "metadata": {
    "colab": {
     "base_uri": "https://localhost:8080/",
     "height": 170
    },
    "colab_type": "code",
    "id": "c2FehtIEXefE",
    "outputId": "546899e8-7ace-4f81-cbf9-9353dc9f819c"
   },
   "outputs": [
    {
     "name": "stdout",
     "output_type": "stream",
     "text": [
      "              precision    recall  f1-score   support\n",
      "\n",
      "           0       0.78      0.63      0.70        46\n",
      "           1       0.73      0.85      0.79        54\n",
      "\n",
      "    accuracy                           0.75       100\n",
      "   macro avg       0.76      0.74      0.74       100\n",
      "weighted avg       0.75      0.75      0.75       100\n",
      "\n"
     ]
    }
   ],
   "source": [
    "# Classification Report for Test Data\n",
    "print(classification_report(y_test, final_test_pred))"
   ]
  },
  {
   "cell_type": "markdown",
   "metadata": {
    "colab_type": "text",
    "id": "x1A86Ktn2a8f"
   },
   "source": [
    "# **Conclusion:**"
   ]
  },
  {
   "cell_type": "code",
   "execution_count": null,
   "metadata": {
    "colab": {},
    "colab_type": "code",
    "id": "hdSIWz82bh6U"
   },
   "outputs": [],
   "source": []
  },
  {
   "cell_type": "markdown",
   "metadata": {
    "colab_type": "text",
    "id": "Ho62e4zsbgv5"
   },
   "source": [
    "1.logistic regression:81-91%\n",
    "\n",
    "2.naive bayes classifier:81-88%\n",
    "\n",
    "3.knn classifier:76-91%\n"
   ]
  },
  {
   "cell_type": "markdown",
   "metadata": {
    "colab_type": "text",
    "id": "qiDkBhj22iCt"
   },
   "source": [
    "-> In this project, I used Machine Learning to predict whether a person is suffering from a heart disease. After importing the data, I analysed it using plots. Then, I did generated dummy variables for categorical features and scaled other features. I then applied 3 Machine Learning algorithms, K Neighbors Classifier, logistic regression ,naive bayes classifier. I varied parameters across each model to improve their scores. In the end,  Logistic Regression achieved the highest score of 81-91% as compared to other algorithms"
   ]
  }
 ],
 "metadata": {
  "colab": {
   "collapsed_sections": [],
   "name": "predicton of heart disease occurance.ipynb",
   "provenance": []
  },
  "kernelspec": {
   "display_name": "Python 3",
   "language": "python",
   "name": "python3"
  },
  "language_info": {
   "codemirror_mode": {
    "name": "ipython",
    "version": 3
   },
   "file_extension": ".py",
   "mimetype": "text/x-python",
   "name": "python",
   "nbconvert_exporter": "python",
   "pygments_lexer": "ipython3",
   "version": "3.7.6"
  }
 },
 "nbformat": 4,
 "nbformat_minor": 1
}
